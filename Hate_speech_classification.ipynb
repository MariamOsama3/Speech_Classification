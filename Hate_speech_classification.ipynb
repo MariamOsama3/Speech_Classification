{
  "cells": [
    {
      "cell_type": "markdown",
      "metadata": {
        "id": "ySsIPBRiorxK"
      },
      "source": [
        "**Dataset**\n",
        "labeled datasset collected from twitter (Lab 1 - Hate Speech.tsv)\n",
        "\n",
        "**Objective**\n",
        "classify tweets containing hate speech from other tweets. <br>\n",
        "0 -> no hate speech <br>\n",
        "1 -> contains hate speech <br>\n",
        "\n",
        "\n",
        "**Evaluation metric**\n",
        "macro f1 score"
      ]
    },
    {
      "cell_type": "markdown",
      "metadata": {
        "id": "v-6lrKz6orxT"
      },
      "source": [
        "### Import used libraries"
      ]
    },
    {
      "cell_type": "code",
      "source": [
        "from sklearn.model_selection import train_test_split\n",
        "from sklearn.linear_model import LogisticRegression\n",
        "from sklearn.metrics import f1_score"
      ],
      "metadata": {
        "id": "vqVCTTe50373"
      },
      "execution_count": null,
      "outputs": []
    },
    {
      "cell_type": "code",
      "execution_count": null,
      "metadata": {
        "id": "eXUPo3g4orxV"
      },
      "outputs": [],
      "source": [
        "import pandas as pd\n",
        "pd.set_option('display.max_rows', 500)\n",
        "pd.set_option('display.max_colwidth', 500)"
      ]
    },
    {
      "cell_type": "markdown",
      "metadata": {
        "id": "fG8MkuvjorxX"
      },
      "source": [
        "### Load Dataset"
      ]
    },
    {
      "cell_type": "markdown",
      "metadata": {
        "id": "4ZkY0-czPhHJ"
      },
      "source": [
        "###### Note: search how to load the data from tsv file"
      ]
    },
    {
      "cell_type": "code",
      "execution_count": null,
      "metadata": {
        "id": "BYeqhp66orxY",
        "collapsed": true
      },
      "outputs": [],
      "source": [
        "df = pd.read_csv(\"/content/Hate Speech.tsv\", sep= \"\\t\", index_col='id')"
      ]
    },
    {
      "cell_type": "code",
      "execution_count": null,
      "metadata": {
        "id": "y-HuPti-PhHN",
        "outputId": "be3ab16d-9713-46ff-8d27-793d484fc7f9",
        "colab": {
          "base_uri": "https://localhost:8080/",
          "height": 147
        }
      },
      "outputs": [
        {
          "output_type": "execute_result",
          "data": {
            "text/plain": [
              "label    31535\n",
              "tweet    31535\n",
              "dtype: int64"
            ],
            "text/html": [
              "<div>\n",
              "<style scoped>\n",
              "    .dataframe tbody tr th:only-of-type {\n",
              "        vertical-align: middle;\n",
              "    }\n",
              "\n",
              "    .dataframe tbody tr th {\n",
              "        vertical-align: top;\n",
              "    }\n",
              "\n",
              "    .dataframe thead th {\n",
              "        text-align: right;\n",
              "    }\n",
              "</style>\n",
              "<table border=\"1\" class=\"dataframe\">\n",
              "  <thead>\n",
              "    <tr style=\"text-align: right;\">\n",
              "      <th></th>\n",
              "      <th>0</th>\n",
              "    </tr>\n",
              "  </thead>\n",
              "  <tbody>\n",
              "    <tr>\n",
              "      <th>label</th>\n",
              "      <td>31535</td>\n",
              "    </tr>\n",
              "    <tr>\n",
              "      <th>tweet</th>\n",
              "      <td>31535</td>\n",
              "    </tr>\n",
              "  </tbody>\n",
              "</table>\n",
              "</div><br><label><b>dtype:</b> int64</label>"
            ]
          },
          "metadata": {},
          "execution_count": 4
        }
      ],
      "source": [
        "df.count()"
      ]
    },
    {
      "cell_type": "code",
      "source": [
        "x = df['tweet']\n",
        "y = df['label']"
      ],
      "metadata": {
        "id": "B7g9e66g1MUs"
      },
      "execution_count": null,
      "outputs": []
    },
    {
      "cell_type": "markdown",
      "metadata": {
        "id": "II1uHlxfPhHO"
      },
      "source": [
        "### Data splitting"
      ]
    },
    {
      "cell_type": "markdown",
      "metadata": {
        "id": "46OY4lqlPhHO"
      },
      "source": [
        "It is a good practice to split the data before EDA helps maintain the integrity of the machine learning process, prevents data leakage, simulates real-world scenarios more accurately, and ensures reliable model performance evaluation on unseen data."
      ]
    },
    {
      "cell_type": "code",
      "execution_count": null,
      "metadata": {
        "id": "ewAscgPKPhHP"
      },
      "outputs": [],
      "source": [
        "x_train, x_test, y_train, y_test = train_test_split(x, y, test_size=.2, stratify=y, random_state=42)"
      ]
    },
    {
      "cell_type": "code",
      "source": [
        "print(\"Shape of x_train:\", x_train.shape)\n",
        "print(\"Shape of y_train:\", y_train.shape)"
      ],
      "metadata": {
        "colab": {
          "base_uri": "https://localhost:8080/"
        },
        "id": "aUdm5GnJtSbZ",
        "outputId": "a68b91e7-a0cd-4054-e63e-3fc354073314"
      },
      "execution_count": null,
      "outputs": [
        {
          "output_type": "stream",
          "name": "stdout",
          "text": [
            "Shape of x_train: (25228,)\n",
            "Shape of y_train: (25228,)\n"
          ]
        }
      ]
    },
    {
      "cell_type": "markdown",
      "metadata": {
        "id": "hqWVKi_GorxZ"
      },
      "source": [
        "### EDA on training data"
      ]
    },
    {
      "cell_type": "markdown",
      "metadata": {
        "id": "R1zxJpFxorxa"
      },
      "source": [
        "- check NaNs"
      ]
    },
    {
      "cell_type": "code",
      "execution_count": null,
      "metadata": {
        "id": "HVEttSujorxa",
        "colab": {
          "base_uri": "https://localhost:8080/"
        },
        "outputId": "9bfad43e-216d-4b49-c15c-7d98db6645b9"
      },
      "outputs": [
        {
          "output_type": "execute_result",
          "data": {
            "text/plain": [
              "np.int64(0)"
            ]
          },
          "metadata": {},
          "execution_count": 6
        }
      ],
      "source": [
        "x_train.isnull().sum()"
      ]
    },
    {
      "cell_type": "code",
      "source": [
        "y_train.isnull().sum()"
      ],
      "metadata": {
        "colab": {
          "base_uri": "https://localhost:8080/"
        },
        "id": "roUVtEgY5pfC",
        "outputId": "c58f78b9-0ac2-486d-e0a5-053c640d7946"
      },
      "execution_count": null,
      "outputs": [
        {
          "output_type": "execute_result",
          "data": {
            "text/plain": [
              "np.int64(0)"
            ]
          },
          "metadata": {},
          "execution_count": 9
        }
      ]
    },
    {
      "cell_type": "code",
      "execution_count": null,
      "metadata": {
        "id": "J_FlBWISorxb",
        "colab": {
          "base_uri": "https://localhost:8080/"
        },
        "outputId": "870e25cb-774f-42bd-9bd3-9dcce5f3c3e1"
      },
      "outputs": [
        {
          "output_type": "execute_result",
          "data": {
            "text/plain": [
              "np.int64(1795)"
            ]
          },
          "metadata": {},
          "execution_count": 7
        }
      ],
      "source": [
        "x_train.duplicated().sum()"
      ]
    },
    {
      "cell_type": "markdown",
      "metadata": {
        "id": "YjIBFc35orxc"
      },
      "source": [
        "- show a representative sample of data texts to find out required preprocessing steps"
      ]
    },
    {
      "cell_type": "code",
      "execution_count": null,
      "metadata": {
        "id": "zGFKzSCRorxc",
        "colab": {
          "base_uri": "https://localhost:8080/"
        },
        "outputId": "17537251-0226-4250-9314-99fa653c8c32",
        "collapsed": true
      },
      "outputs": [
        {
          "output_type": "stream",
          "name": "stdout",
          "text": [
            "id\n",
            "27860                                                     it's going to be ace! @user @user @user @user @user @user @user @user\n",
            "2727                                                                               i am wholesome. #i_am #positive #affirmation\n",
            "9159                                                                battle of the bastards #gameofthrones #season7 #teamjonsnow\n",
            "25296                                            nope!!! this is not true. data is readily available. you just have to request.\n",
            "24393                                                                                       #aldubfohelove   tuesday morning!!!\n",
            "27566                                       @user anyone on ubuntu and/or just running systemd-resolved beware.   #disaster â\n",
            "597                                                           rare pic of superstar @user with @user    bihday sivakoratala  :)\n",
            "28550    @user @user don't fall for that shit...i'm from croatia and those are just some spoiled rich brats acting out #ashamed\n",
            "20538     @user @user yes, i know twin sawyer glaciers are at he head of tracy arm but my cruise turned around never saw them  \n",
            "1460                                                        good nightð¤ð´ #tomorrowismondayð© #5hardweeksuntilsummerð¤\n",
            "Name: tweet, dtype: object\n"
          ]
        }
      ],
      "source": [
        "sample = x_train.sample(10)\n",
        "print(sample)"
      ]
    },
    {
      "cell_type": "code",
      "source": [
        "import matplotlib.pyplot as plt\n",
        "import seaborn as sns"
      ],
      "metadata": {
        "id": "xsGefIG2oyYx"
      },
      "execution_count": null,
      "outputs": []
    },
    {
      "cell_type": "code",
      "source": [
        "# Add text length columns\n",
        "text_length = x.astype(str).apply(lambda x: len(x.split()))\n",
        "\n",
        "# Plot distribution\n",
        "plt.figure(figsize=(12, 5))\n",
        "sns.histplot(text_length,bins=20 ,color='blue', label='Newsgroups')\n",
        "plt.ylim(0,100000)\n",
        "plt.xlim(0,500)\n",
        "plt.legend()\n",
        "plt.title(\"Text Length Distribution\")\n",
        "plt.xlabel(\"Number of Words\")\n",
        "plt.ylabel(\"Frequency\")\n",
        "plt.show()"
      ],
      "metadata": {
        "colab": {
          "base_uri": "https://localhost:8080/",
          "height": 487
        },
        "id": "_HTyad4RA1Zv",
        "outputId": "517bdc73-79a6-4a0b-f1ea-66af50c36814"
      },
      "execution_count": null,
      "outputs": [
        {
          "output_type": "display_data",
          "data": {
            "text/plain": [
              "<Figure size 1200x500 with 1 Axes>"
            ],
            "image/png": "[encoded data removed]"
          },
          "metadata": {}
        }
      ]
    },
    {
      "cell_type": "markdown",
      "metadata": {
        "id": "UqdSUtbdorxd"
      },
      "source": [
        "- check dataset balancing"
      ]
    },
    {
      "cell_type": "code",
      "execution_count": null,
      "metadata": {
        "id": "JBHrSvXhorxd",
        "colab": {
          "base_uri": "https://localhost:8080/",
          "height": 178
        },
        "outputId": "430fefb1-ae03-48f2-87d6-0f32b36497c3"
      },
      "outputs": [
        {
          "output_type": "execute_result",
          "data": {
            "text/plain": [
              "label\n",
              "0    23458\n",
              "1     1770\n",
              "Name: count, dtype: int64"
            ],
            "text/html": [
              "<div>\n",
              "<style scoped>\n",
              "    .dataframe tbody tr th:only-of-type {\n",
              "        vertical-align: middle;\n",
              "    }\n",
              "\n",
              "    .dataframe tbody tr th {\n",
              "        vertical-align: top;\n",
              "    }\n",
              "\n",
              "    .dataframe thead th {\n",
              "        text-align: right;\n",
              "    }\n",
              "</style>\n",
              "<table border=\"1\" class=\"dataframe\">\n",
              "  <thead>\n",
              "    <tr style=\"text-align: right;\">\n",
              "      <th></th>\n",
              "      <th>count</th>\n",
              "    </tr>\n",
              "    <tr>\n",
              "      <th>label</th>\n",
              "      <th></th>\n",
              "    </tr>\n",
              "  </thead>\n",
              "  <tbody>\n",
              "    <tr>\n",
              "      <th>0</th>\n",
              "      <td>23458</td>\n",
              "    </tr>\n",
              "    <tr>\n",
              "      <th>1</th>\n",
              "      <td>1770</td>\n",
              "    </tr>\n",
              "  </tbody>\n",
              "</table>\n",
              "</div><br><label><b>dtype:</b> int64</label>"
            ]
          },
          "metadata": {},
          "execution_count": 10
        }
      ],
      "source": [
        "y_train.value_counts()"
      ]
    },
    {
      "cell_type": "markdown",
      "metadata": {
        "id": "x3wl_crkorxd"
      },
      "source": [
        "- Cleaning and Preprocessing are:\n",
        "    - remove url, hash, username, punetuation, emoji\n",
        "    - remove cotraction\n",
        "    - remove stop words\n",
        "    - lemeterzation\n",
        "    - ... etc."
      ]
    },
    {
      "cell_type": "markdown",
      "metadata": {
        "id": "XyJkqK9gorxe"
      },
      "source": [
        "### Cleaning and Preprocessing"
      ]
    },
    {
      "cell_type": "code",
      "source": [
        "!pip install contractions"
      ],
      "metadata": {
        "id": "R1zzeGTLIKec",
        "colab": {
          "base_uri": "https://localhost:8080/"
        },
        "outputId": "06e0ffab-7326-492f-de60-217c493abb64"
      },
      "execution_count": null,
      "outputs": [
        {
          "output_type": "stream",
          "name": "stdout",
          "text": [
            "Collecting contractions\n",
            "  Downloading contractions-0.1.73-py2.py3-none-any.whl.metadata (1.2 kB)\n",
            "Collecting textsearch>=0.0.21 (from contractions)\n",
            "  Downloading textsearch-0.0.24-py2.py3-none-any.whl.metadata (1.2 kB)\n",
            "Collecting anyascii (from textsearch>=0.0.21->contractions)\n",
            "  Downloading anyascii-0.3.2-py3-none-any.whl.metadata (1.5 kB)\n",
            "Collecting pyahocorasick (from textsearch>=0.0.21->contractions)\n",
            "  Downloading pyahocorasick-2.1.0-cp311-cp311-manylinux_2_17_x86_64.manylinux2014_x86_64.whl.metadata (13 kB)\n",
            "Downloading contractions-0.1.73-py2.py3-none-any.whl (8.7 kB)\n",
            "Downloading textsearch-0.0.24-py2.py3-none-any.whl (7.6 kB)\n",
            "Downloading anyascii-0.3.2-py3-none-any.whl (289 kB)\n",
            "\u001b[2K   \u001b[90m━━━━━━━━━━━━━━━━━━━━━━━━━━━━━━━━━━━━━━━━\u001b[0m \u001b[32m289.9/289.9 kB\u001b[0m \u001b[31m20.6 MB/s\u001b[0m eta \u001b[36m0:00:00\u001b[0m\n",
            "\u001b[?25hDownloading pyahocorasick-2.1.0-cp311-cp311-manylinux_2_17_x86_64.manylinux2014_x86_64.whl (118 kB)\n",
            "\u001b[2K   \u001b[90m━━━━━━━━━━━━━━━━━━━━━━━━━━━━━━━━━━━━━━━━\u001b[0m \u001b[32m118.3/118.3 kB\u001b[0m \u001b[31m12.2 MB/s\u001b[0m eta \u001b[36m0:00:00\u001b[0m\n",
            "\u001b[?25hInstalling collected packages: pyahocorasick, anyascii, textsearch, contractions\n",
            "Successfully installed anyascii-0.3.2 contractions-0.1.73 pyahocorasick-2.1.0 textsearch-0.0.24\n"
          ]
        }
      ]
    },
    {
      "cell_type": "code",
      "source": [
        "!pip install emoji"
      ],
      "metadata": {
        "id": "wXsvDdtkGYyt",
        "collapsed": true,
        "colab": {
          "base_uri": "https://localhost:8080/"
        },
        "outputId": "7a4f8331-9e88-4d35-a717-2ca015b64f67"
      },
      "execution_count": null,
      "outputs": [
        {
          "output_type": "stream",
          "name": "stdout",
          "text": [
            "Collecting emoji\n",
            "  Downloading emoji-2.14.1-py3-none-any.whl.metadata (5.7 kB)\n",
            "Downloading emoji-2.14.1-py3-none-any.whl (590 kB)\n",
            "\u001b[?25l   \u001b[90m━━━━━━━━━━━━━━━━━━━━━━━━━━━━━━━━━━━━━━━━\u001b[0m \u001b[32m0.0/590.6 kB\u001b[0m \u001b[31m?\u001b[0m eta \u001b[36m-:--:--\u001b[0m\r\u001b[2K   \u001b[90m━━━━━━━━━━━━━━━━━━━━━━━━━━━━━━━━━━━━━━━━\u001b[0m \u001b[32m590.6/590.6 kB\u001b[0m \u001b[31m30.8 MB/s\u001b[0m eta \u001b[36m0:00:00\u001b[0m\n",
            "\u001b[?25hInstalling collected packages: emoji\n",
            "Successfully installed emoji-2.14.1\n"
          ]
        }
      ]
    },
    {
      "cell_type": "code",
      "source": [
        "!pip install gensim"
      ],
      "metadata": {
        "collapsed": true,
        "id": "LEc0fSgfbsDp"
      },
      "execution_count": null,
      "outputs": []
    },
    {
      "cell_type": "code",
      "source": [
        "!pip install --upgrade numpy gensim\n",
        "!pip install --force-reinstall numpy\n",
        "!pip install --upgrade --force-reinstall gensim"
      ],
      "metadata": {
        "collapsed": true,
        "id": "pOnZDRc6cpP4"
      },
      "execution_count": null,
      "outputs": []
    },
    {
      "cell_type": "code",
      "source": [
        "import emoji\n",
        "import numpy as np\n",
        "from contractions import fix\n",
        "import re\n",
        "import string\n",
        "from sklearn.feature_extraction.text import CountVectorizer, TfidfVectorizer\n",
        "from sklearn.pipeline import Pipeline\n",
        "from sklearn.model_selection import train_test_split, GridSearchCV\n",
        "from sklearn.metrics import accuracy_score\n",
        "#import gensim\n",
        "#from gensim.models import Word2Vec, KeyedVectors\n",
        "from nltk.tokenize import word_tokenize\n",
        "import tensorflow as tf\n",
        "from tensorflow.keras.models import Sequential\n",
        "from tensorflow.keras.layers import Embedding, Conv1D, GlobalMaxPooling1D, Dense"
      ],
      "metadata": {
        "id": "RJkWQCtkG4zC"
      },
      "execution_count": null,
      "outputs": []
    },
    {
      "cell_type": "code",
      "source": [
        "from nltk.stem import WordNetLemmatizer\n",
        "from sklearn.base import BaseEstimator, TransformerMixin"
      ],
      "metadata": {
        "id": "yZdckofcNpWv"
      },
      "execution_count": null,
      "outputs": []
    },
    {
      "cell_type": "code",
      "source": [
        "import nltk\n",
        "nltk.download('punkt_tab')\n",
        "nltk.download('stopwords')\n",
        "nltk.download('wordnet')\n",
        "from nltk.tokenize import word_tokenize\n",
        "from nltk.corpus import stopwords"
      ],
      "metadata": {
        "colab": {
          "base_uri": "https://localhost:8080/"
        },
        "collapsed": true,
        "id": "QGlSJ3SSMekp",
        "outputId": "7ea26758-3bef-4317-e102-a1fea3d6e603"
      },
      "execution_count": null,
      "outputs": [
        {
          "output_type": "stream",
          "name": "stderr",
          "text": [
            "[nltk_data] Downloading package punkt_tab to /root/nltk_data...\n",
            "[nltk_data]   Unzipping tokenizers/punkt_tab.zip.\n",
            "[nltk_data] Downloading package stopwords to /root/nltk_data...\n",
            "[nltk_data]   Unzipping corpora/stopwords.zip.\n",
            "[nltk_data] Downloading package wordnet to /root/nltk_data...\n"
          ]
        }
      ]
    },
    {
      "cell_type": "code",
      "source": [
        "from nltk import pos_tag\n",
        "from nltk.corpus import wordnet"
      ],
      "metadata": {
        "id": "t7bMdQe5oUmB"
      },
      "execution_count": null,
      "outputs": []
    },
    {
      "cell_type": "code",
      "source": [
        "def clean_tweet(tweet):\n",
        "    tweet = str(tweet).lower()\n",
        "    tweet = re.sub(r'http\\S+', '', tweet)\n",
        "    tweet = re.sub(r'@\\S+', '', tweet)\n",
        "    tweet = re.sub(r'#(\\S+)', r'\\1', tweet)\n",
        "    tweet = emoji.demojize(tweet, delimiters=(\" \", \" \"))\n",
        "    tweet = fix(tweet)\n",
        "    tweet = tweet.translate(str.maketrans('', '', string.punctuation))\n",
        "    tokens = word_tokenize(tweet)\n",
        "    stop_words = set(stopwords.words('english'))\n",
        "    filtered_tokens = [word for word in tokens if word not in stop_words]\n",
        "    lemmatizer = WordNetLemmatizer()\n",
        "    lemmatizer_word =  [lemmatizer.lemmatize(word) for word in filtered_tokens]\n",
        "    cleaned_tweet = ' '.join(lemmatizer_word)\n",
        "    return cleaned_tweet"
      ],
      "metadata": {
        "id": "LPZqYDP3H6cd"
      },
      "execution_count": null,
      "outputs": []
    },
    {
      "cell_type": "code",
      "source": [
        "x_train = x_train.apply(clean_tweet)\n",
        "x_test = x_test.apply(clean_tweet)"
      ],
      "metadata": {
        "id": "ITdFLyW8JkPr"
      },
      "execution_count": null,
      "outputs": []
    },
    {
      "cell_type": "code",
      "source": [
        "print(\"Shape of x_train:\", x_train.shape)\n",
        "print(\"Shape of y_train:\", y_train.shape)"
      ],
      "metadata": {
        "id": "vjB74fbztYvd",
        "colab": {
          "base_uri": "https://localhost:8080/"
        },
        "outputId": "7f6a9aa7-81b9-4f4d-ceb5-aa4eb35c77c5"
      },
      "execution_count": null,
      "outputs": [
        {
          "output_type": "stream",
          "name": "stdout",
          "text": [
            "Shape of x_train: (25228,)\n",
            "Shape of y_train: (25228,)\n"
          ]
        }
      ]
    },
    {
      "cell_type": "markdown",
      "source": [
        "## text presentations\n",
        "\n",
        "\n"
      ],
      "metadata": {
        "id": "C0aEkGLFyxH7"
      }
    },
    {
      "cell_type": "markdown",
      "source": [
        "####simple models"
      ],
      "metadata": {
        "id": "ArlSO12-y2EP"
      }
    },
    {
      "cell_type": "markdown",
      "source": [
        "###### BOW"
      ],
      "metadata": {
        "id": "2aW2JJ6Qy5a6"
      }
    },
    {
      "cell_type": "code",
      "execution_count": null,
      "metadata": {
        "id": "u2EYQvrBorxf"
      },
      "outputs": [],
      "source": [
        "vector_bow = CountVectorizer()\n",
        "x_train_bow = vector_bow.fit_transform(x_train)\n",
        "x_test_bow = vector_bow.transform(x_test)"
      ]
    },
    {
      "cell_type": "code",
      "source": [
        "print(\"Shape of x_train:\", x_train.shape)\n",
        "print(\"Shape of y_train:\", y_train.shape)"
      ],
      "metadata": {
        "colab": {
          "base_uri": "https://localhost:8080/"
        },
        "id": "-B4tw3A5tj55",
        "outputId": "b9ee7776-3830-4297-a40d-a0f69fbbed72"
      },
      "execution_count": null,
      "outputs": [
        {
          "output_type": "stream",
          "name": "stdout",
          "text": [
            "Shape of x_train: (25228,)\n",
            "Shape of y_train: (25228,)\n"
          ]
        }
      ]
    },
    {
      "cell_type": "markdown",
      "source": [
        "#####TfidVectorizor"
      ],
      "metadata": {
        "id": "Ctpgyp_fzG55"
      }
    },
    {
      "cell_type": "code",
      "source": [
        "vector_TfDf = TfidfVectorizer(ngram_range=(1,1),min_df= 8)\n",
        "x_train_tfdf = vector_TfDf.fit_transform(x_train)\n",
        "x_test_tfdf = vector_TfDf.transform(x_test)"
      ],
      "metadata": {
        "collapsed": true,
        "id": "9enkY1LH4NZB"
      },
      "execution_count": null,
      "outputs": []
    },
    {
      "cell_type": "markdown",
      "source": [
        "so using Tfid the best score is 69 lits try anther ways\n",
        "\n",
        "\n",
        "\n"
      ],
      "metadata": {
        "id": "M4nKYBls5Tp6"
      }
    },
    {
      "cell_type": "markdown",
      "source": [
        "### advanced models"
      ],
      "metadata": {
        "id": "oEz6RSeazqy1"
      }
    },
    {
      "cell_type": "markdown",
      "source": [
        "####word2vec"
      ],
      "metadata": {
        "id": "REqXs5QhBHrp"
      }
    },
    {
      "cell_type": "code",
      "source": [
        "X_test_tokens = [text.split() for text in x_train]\n",
        "word_toVec = Word2Vec(sentences=X_test_tokens, vector_size= 100,\n",
        "                              window=5, min_count=1 , workers= 4)\n",
        "\n",
        "x_train_word2vec = np.array([\n",
        "    np.mean([word_toVec.wv[word] for word in text.split() if word in word_toVec.wv], axis=0)\n",
        "    if any(word in word_toVec.wv for word in text.split())  # Check if any word in vocabulary\n",
        "    else np.zeros(word_toVec.vector_size)  # Use zero vector if no words in vocabulary\n",
        "    for text in x_train\n",
        "])\n",
        "\n",
        "x_test_word2vec = np.array([\n",
        "    np.mean([word_toVec.wv[word] for word in text.split() if word in word_toVec.wv], axis=0)\n",
        "    if any(word in word_toVec.wv for word in text.split())  # Check if any word in vocabulary\n",
        "    else np.zeros(word_toVec.vector_size)  # Use zero vector if no words in vocabulary\n",
        "    for text in x_test\n",
        "])"
      ],
      "metadata": {
        "id": "qvvF26tdNCd1"
      },
      "execution_count": null,
      "outputs": []
    },
    {
      "cell_type": "markdown",
      "source": [
        "####glove\n"
      ],
      "metadata": {
        "id": "uCJdEGeaCvhk"
      }
    },
    {
      "cell_type": "code",
      "source": [
        "import gensim.downloader as api\n",
        "glove_model = api.load('glove-wiki-gigaword-100')"
      ],
      "metadata": {
        "colab": {
          "base_uri": "https://localhost:8080/"
        },
        "id": "xO0lpEFiUEko",
        "outputId": "745698af-33c3-45c4-d1ed-c1d24e09f497"
      },
      "execution_count": null,
      "outputs": [
        {
          "output_type": "stream",
          "name": "stdout",
          "text": [
            "[==================================================] 100.0% 128.1/128.1MB downloaded\n"
          ]
        }
      ]
    },
    {
      "cell_type": "code",
      "source": [
        "def text_to_glove(text, glove_model, vector_size):\n",
        "    # Tokenize by splitting on spaces (this is the simplest tokenization)\n",
        "    tokens = text.lower().split()\n",
        "    vectors = [glove_model[word] for word in tokens if word in glove_model]\n",
        "    if not vectors:\n",
        "        return np.zeros(vector_size)\n",
        "    return np.mean(vectors, axis=0)\n",
        "\n",
        "vector_size = glove_model.vector_size\n",
        "\n",
        "x_train_vectors = np.array([text_to_glove(text, glove_model, vector_size) for text in x_train])\n",
        "x_test_vectors = np.array([text_to_glove(text, glove_model, vector_size) for text in x_test])\n"
      ],
      "metadata": {
        "id": "7RPs6f6YzOQG"
      },
      "execution_count": null,
      "outputs": []
    },
    {
      "cell_type": "markdown",
      "source": [
        "####fast text embedding"
      ],
      "metadata": {
        "id": "1VOvyrB8VPl1"
      }
    },
    {
      "cell_type": "code",
      "source": [
        "fasttext_model = api.load(\"fasttext-wiki-news-subwords-300\")"
      ],
      "metadata": {
        "id": "LBBSjQYQVmUM"
      },
      "execution_count": null,
      "outputs": []
    },
    {
      "cell_type": "code",
      "source": [
        "import numpy as np\n",
        "import gensim.downloader as api\n",
        "\n",
        "def text_to_fasttext(text, fasttext_model, vector_size):\n",
        "    # Tokenize by splitting on spaces (simplest form of tokenization)\n",
        "    tokens = text.lower().split()\n",
        "    vectors = [fasttext_model[word] for word in tokens if word in fasttext_model]\n",
        "    if not vectors:\n",
        "        return np.zeros(vector_size)\n",
        "    return np.mean(vectors, axis=0)\n",
        "\n",
        "vector_size = fasttext_model.vector_size\n",
        "\n",
        "\n",
        "# Vectorize the training and test data\n",
        "x_train_fast = np.array([text_to_fasttext(text, fasttext_model, vector_size) for text in x_train])\n",
        "x_test_fast = np.array([text_to_fasttext(text, fasttext_model, vector_size) for text in x_test])\n",
        "\n"
      ],
      "metadata": {
        "id": "oojVrpUh0Ymv"
      },
      "execution_count": null,
      "outputs": []
    },
    {
      "cell_type": "markdown",
      "metadata": {
        "id": "ba0r1ASHorxf"
      },
      "source": [
        "**You  are doing Great so far!**"
      ]
    },
    {
      "cell_type": "markdown",
      "metadata": {
        "id": "R9BhRQbYorxf"
      },
      "source": [
        "### Modelling"
      ]
    },
    {
      "cell_type": "code",
      "source": [
        "from sklearn.metrics import classification_report\n",
        "from tensorflow.keras.layers import Embedding, SimpleRNN, Dense, Dropout\n",
        "from tensorflow.keras.models import Sequential\n",
        "from tensorflow.keras.preprocessing.text import Tokenizer\n",
        "from tensorflow.keras.preprocessing.sequence import pad_sequences"
      ],
      "metadata": {
        "id": "QRZXER1-3eec"
      },
      "execution_count": null,
      "outputs": []
    },
    {
      "cell_type": "markdown",
      "source": [
        "####RNN"
      ],
      "metadata": {
        "id": "BBUzXIHvuAru"
      }
    },
    {
      "cell_type": "code",
      "source": [
        "tokenizer = Tokenizer()\n",
        "tokenizer.fit_on_texts(x_train)\n",
        "vocab_size = len(tokenizer.word_index) +1\n",
        "\n",
        "x_train_bad = tokenizer.texts_to_sequences(x_train)\n",
        "x_test_bad = tokenizer.texts_to_sequences(x_test)\n",
        "\n",
        "max_len = 100\n",
        "x_train_bad = pad_sequences(x_train_bad, maxlen=max_len)\n",
        "x_test_bad = pad_sequences(x_test_bad, maxlen=max_len)\n",
        "\n",
        "emdedding_layer = Embedding(input_dim=vocab_size, output_dim=100, input_length=max_len)\n",
        "\n",
        "model = Sequential([\n",
        "    emdedding_layer,\n",
        "    SimpleRNN(64),\n",
        "    Dense(64, activation='relu'),\n",
        "    Dropout(0.2),\n",
        "    Dense(1, activation='sigmoid')\n",
        "])\n",
        "\n",
        "model.compile(loss='binary_crossentropy',\n",
        "              optimizer='adam',\n",
        "              metrics=['accuracy'])\n",
        "\n",
        "history1 = model.fit(x_train_bad, y_train, epochs=10, batch_size=32, validation_data=(x_test_bad, y_test))"
      ],
      "metadata": {
        "colab": {
          "base_uri": "https://localhost:8080/"
        },
        "id": "THf9UJkDha4s",
        "outputId": "5954511a-ed2f-421c-ed63-bb5a64f868aa"
      },
      "execution_count": null,
      "outputs": [
        {
          "output_type": "stream",
          "name": "stdout",
          "text": [
            "Epoch 1/10\n"
          ]
        },
        {
          "output_type": "stream",
          "name": "stderr",
          "text": [
            "/usr/local/lib/python3.11/dist-packages/keras/src/layers/core/embedding.py:90: UserWarning: Argument `input_length` is deprecated. Just remove it.\n",
            "  warnings.warn(\n"
          ]
        },
        {
          "output_type": "stream",
          "name": "stdout",
          "text": [
            "\u001b[1m789/789\u001b[0m \u001b[32m━━━━━━━━━━━━━━━━━━━━\u001b[0m\u001b[37m\u001b[0m \u001b[1m15s\u001b[0m 14ms/step - accuracy: 0.9299 - loss: 0.2454 - val_accuracy: 0.9510 - val_loss: 0.1440\n",
            "Epoch 2/10\n",
            "\u001b[1m789/789\u001b[0m \u001b[32m━━━━━━━━━━━━━━━━━━━━\u001b[0m\u001b[37m\u001b[0m \u001b[1m18s\u001b[0m 12ms/step - accuracy: 0.9853 - loss: 0.0468 - val_accuracy: 0.9632 - val_loss: 0.1264\n",
            "Epoch 3/10\n",
            "\u001b[1m789/789\u001b[0m \u001b[32m━━━━━━━━━━━━━━━━━━━━\u001b[0m\u001b[37m\u001b[0m \u001b[1m11s\u001b[0m 14ms/step - accuracy: 0.9983 - loss: 0.0066 - val_accuracy: 0.9600 - val_loss: 0.1817\n",
            "Epoch 4/10\n",
            "\u001b[1m789/789\u001b[0m \u001b[32m━━━━━━━━━━━━━━━━━━━━\u001b[0m\u001b[37m\u001b[0m \u001b[1m19s\u001b[0m 12ms/step - accuracy: 0.9991 - loss: 0.0025 - val_accuracy: 0.9548 - val_loss: 0.2147\n",
            "Epoch 5/10\n",
            "\u001b[1m789/789\u001b[0m \u001b[32m━━━━━━━━━━━━━━━━━━━━\u001b[0m\u001b[37m\u001b[0m \u001b[1m10s\u001b[0m 13ms/step - accuracy: 0.9984 - loss: 0.0051 - val_accuracy: 0.9523 - val_loss: 0.2677\n",
            "Epoch 6/10\n",
            "\u001b[1m789/789\u001b[0m \u001b[32m━━━━━━━━━━━━━━━━━━━━\u001b[0m\u001b[37m\u001b[0m \u001b[1m9s\u001b[0m 12ms/step - accuracy: 0.9994 - loss: 0.0018 - val_accuracy: 0.9469 - val_loss: 0.2692\n",
            "Epoch 7/10\n",
            "\u001b[1m789/789\u001b[0m \u001b[32m━━━━━━━━━━━━━━━━━━━━\u001b[0m\u001b[37m\u001b[0m \u001b[1m10s\u001b[0m 12ms/step - accuracy: 0.9992 - loss: 0.0029 - val_accuracy: 0.9497 - val_loss: 0.2965\n",
            "Epoch 8/10\n",
            "\u001b[1m789/789\u001b[0m \u001b[32m━━━━━━━━━━━━━━━━━━━━\u001b[0m\u001b[37m\u001b[0m \u001b[1m9s\u001b[0m 11ms/step - accuracy: 0.9992 - loss: 0.0030 - val_accuracy: 0.9515 - val_loss: 0.2939\n",
            "Epoch 9/10\n",
            "\u001b[1m789/789\u001b[0m \u001b[32m━━━━━━━━━━━━━━━━━━━━\u001b[0m\u001b[37m\u001b[0m \u001b[1m10s\u001b[0m 10ms/step - accuracy: 0.9990 - loss: 0.0031 - val_accuracy: 0.9561 - val_loss: 0.3167\n",
            "Epoch 10/10\n",
            "\u001b[1m789/789\u001b[0m \u001b[32m━━━━━━━━━━━━━━━━━━━━\u001b[0m\u001b[37m\u001b[0m \u001b[1m9s\u001b[0m 11ms/step - accuracy: 0.9997 - loss: 8.0356e-04 - val_accuracy: 0.9539 - val_loss: 0.3375\n"
          ]
        }
      ]
    },
    {
      "cell_type": "code",
      "source": [
        "plt.figure(figsize=(12, 6))\n",
        "plt.subplot(1, 2, 1)\n",
        "plt.plot(history1.history['accuracy'], label='train')\n",
        "plt.plot(history1.history['val_accuracy'], label='test')\n",
        "plt.legend()\n",
        "plt.title('Accuracy')\n",
        "plt.subplot(1, 2, 2)\n",
        "plt.plot(history1.history['loss'], label='train')\n",
        "plt.plot(history1.history['val_loss'], label='test')\n",
        "plt.legend()\n",
        "plt.title('Loss')\n",
        "plt.show()"
      ],
      "metadata": {
        "colab": {
          "base_uri": "https://localhost:8080/",
          "height": 545
        },
        "id": "snqNSI-9vVpZ",
        "outputId": "5de760fa-7c16-4ada-fac4-2595c104cb3d"
      },
      "execution_count": null,
      "outputs": [
        {
          "output_type": "display_data",
          "data": {
            "text/plain": [
              "<Figure size 1200x600 with 2 Axes>"
            ],
            "image/png": "[encoded data removed]"
          },
          "metadata": {}
        }
      ]
    },
    {
      "cell_type": "code",
      "source": [],
      "metadata": {
        "id": "bC-ksQLMmiEb"
      },
      "execution_count": null,
      "outputs": []
    },
    {
      "cell_type": "markdown",
      "source": [
        "#####RNN with glove"
      ],
      "metadata": {
        "id": "pYo4f5Jgu64_"
      }
    },
    {
      "cell_type": "code",
      "source": [
        "# Tokenization\n",
        "tokenizer = Tokenizer()\n",
        "tokenizer.fit_on_texts(x_train)\n",
        "vocab_size = len(tokenizer.word_index) + 1\n",
        "\n",
        "# Convert text to sequences\n",
        "train_sequences = tokenizer.texts_to_sequences(x_train)\n",
        "test_sequences = tokenizer.texts_to_sequences(x_test)\n",
        "\n",
        "# Padding\n",
        "max_len = 100  # Adjust based on your data analysis\n",
        "X_train_pad = pad_sequences(train_sequences, maxlen=max_len, padding='post', truncating='post')\n",
        "X_test_pad = pad_sequences(test_sequences, maxlen=max_len, padding='post', truncating='post')\n",
        "\n",
        "embedding_matrix = np.zeros((vocab_size, 100))  # Embedding dimension set to 100\n",
        "for word, i in tokenizer.word_index.items():\n",
        "    if word in glove_model:\n",
        "        embedding_matrix[i] = glove_model[word]\n",
        "\n",
        "# LSTM Model\n",
        "model = tf.keras.Sequential([\n",
        "    tf.keras.layers.Embedding(\n",
        "        input_dim=vocab_size,\n",
        "        output_dim=100,  # Reduced output dimension\n",
        "        weights=[embedding_matrix],\n",
        "        input_length=max_len,\n",
        "        trainable=False  # Freeze embeddings\n",
        "    ),\n",
        "    tf.keras.layers.Bidirectional(tf.keras.layers.LSTM(64, return_sequences=True)),\n",
        "    tf.keras.layers.Bidirectional(tf.keras.layers.LSTM(32)),\n",
        "    tf.keras.layers.Dense(64, activation='relu'),\n",
        "    tf.keras.layers.Dropout(0.5),\n",
        "    tf.keras.layers.Dense(1, activation='sigmoid')\n",
        "])\n",
        "\n",
        "model.compile(\n",
        "    loss='binary_crossentropy',\n",
        "    optimizer=tf.keras.optimizers.Adam(learning_rate=0.001),\n",
        "    metrics=['accuracy']\n",
        ")\n",
        "\n",
        "# Train with a smaller batch size\n",
        "history = model.fit(\n",
        "    X_train_pad, y_train,\n",
        "    epochs=10,\n",
        "    batch_size=32,  # Reduced batch size\n",
        "    validation_data=(X_test_pad, y_test),\n",
        "    verbose=1\n",
        ")\n",
        "\n",
        "# Evaluate\n",
        "test_loss, test_acc = model.evaluate(X_test_pad, y_test, verbose=2)\n",
        "print(f'\\nTest accuracy: {test_acc:.4f}')"
      ],
      "metadata": {
        "id": "0hFuXHnHR_RE",
        "outputId": "04f95e5a-83ac-4173-fcf6-6c590bee833e",
        "colab": {
          "base_uri": "https://localhost:8080/"
        }
      },
      "execution_count": null,
      "outputs": [
        {
          "output_type": "stream",
          "name": "stdout",
          "text": [
            "Epoch 1/10\n",
            "\u001b[1m789/789\u001b[0m \u001b[32m━━━━━━━━━━━━━━━━━━━━\u001b[0m\u001b[37m\u001b[0m \u001b[1m24s\u001b[0m 21ms/step - accuracy: 0.9232 - loss: 0.2323 - val_accuracy: 0.9483 - val_loss: 0.1484\n",
            "Epoch 2/10\n",
            "\u001b[1m789/789\u001b[0m \u001b[32m━━━━━━━━━━━━━━━━━━━━\u001b[0m\u001b[37m\u001b[0m \u001b[1m39s\u001b[0m 24ms/step - accuracy: 0.9513 - loss: 0.1398 - val_accuracy: 0.9539 - val_loss: 0.1297\n",
            "Epoch 3/10\n",
            "\u001b[1m789/789\u001b[0m \u001b[32m━━━━━━━━━━━━━━━━━━━━\u001b[0m\u001b[37m\u001b[0m \u001b[1m18s\u001b[0m 20ms/step - accuracy: 0.9575 - loss: 0.1291 - val_accuracy: 0.9556 - val_loss: 0.1232\n",
            "Epoch 4/10\n",
            "\u001b[1m789/789\u001b[0m \u001b[32m━━━━━━━━━━━━━━━━━━━━\u001b[0m\u001b[37m\u001b[0m \u001b[1m21s\u001b[0m 21ms/step - accuracy: 0.9643 - loss: 0.1083 - val_accuracy: 0.9572 - val_loss: 0.1393\n",
            "Epoch 5/10\n",
            "\u001b[1m789/789\u001b[0m \u001b[32m━━━━━━━━━━━━━━━━━━━━\u001b[0m\u001b[37m\u001b[0m \u001b[1m19s\u001b[0m 19ms/step - accuracy: 0.9707 - loss: 0.0872 - val_accuracy: 0.9607 - val_loss: 0.1205\n",
            "Epoch 6/10\n",
            "\u001b[1m789/789\u001b[0m \u001b[32m━━━━━━━━━━━━━━━━━━━━\u001b[0m\u001b[37m\u001b[0m \u001b[1m22s\u001b[0m 21ms/step - accuracy: 0.9773 - loss: 0.0676 - val_accuracy: 0.9593 - val_loss: 0.1255\n",
            "Epoch 7/10\n",
            "\u001b[1m789/789\u001b[0m \u001b[32m━━━━━━━━━━━━━━━━━━━━\u001b[0m\u001b[37m\u001b[0m \u001b[1m19s\u001b[0m 19ms/step - accuracy: 0.9814 - loss: 0.0579 - val_accuracy: 0.9569 - val_loss: 0.1480\n",
            "Epoch 8/10\n",
            "\u001b[1m789/789\u001b[0m \u001b[32m━━━━━━━━━━━━━━━━━━━━\u001b[0m\u001b[37m\u001b[0m \u001b[1m21s\u001b[0m 20ms/step - accuracy: 0.9865 - loss: 0.0414 - val_accuracy: 0.9621 - val_loss: 0.1534\n",
            "Epoch 9/10\n",
            "\u001b[1m789/789\u001b[0m \u001b[32m━━━━━━━━━━━━━━━━━━━━\u001b[0m\u001b[37m\u001b[0m \u001b[1m20s\u001b[0m 19ms/step - accuracy: 0.9893 - loss: 0.0337 - val_accuracy: 0.9621 - val_loss: 0.1763\n",
            "Epoch 10/10\n",
            "\u001b[1m789/789\u001b[0m \u001b[32m━━━━━━━━━━━━━━━━━━━━\u001b[0m\u001b[37m\u001b[0m \u001b[1m22s\u001b[0m 21ms/step - accuracy: 0.9919 - loss: 0.0253 - val_accuracy: 0.9596 - val_loss: 0.1813\n",
            "198/198 - 2s - 10ms/step - accuracy: 0.9596 - loss: 0.1813\n",
            "\n",
            "Test accuracy: 0.9596\n"
          ]
        }
      ]
    },
    {
      "cell_type": "markdown",
      "source": [
        "####RNN with different parameters"
      ],
      "metadata": {
        "id": "k1KwQRcrxjzP"
      }
    },
    {
      "cell_type": "code",
      "source": [
        "tokenizer = Tokenizer()\n",
        "tokenizer.fit_on_texts(x_train)\n",
        "vocab_size = len(tokenizer.word_index) +1\n",
        "\n",
        "x_train_bad = tokenizer.texts_to_sequences(x_train)\n",
        "x_test_bad = tokenizer.texts_to_sequences(x_test)\n",
        "\n",
        "max_len = 150\n",
        "x_train_bad = pad_sequences(x_train_bad, maxlen=max_len)\n",
        "x_test_bad = pad_sequences(x_test_bad, maxlen=max_len)\n",
        "\n",
        "emdedding_layer = Embedding(input_dim=vocab_size, output_dim=100, input_length=max_len)\n",
        "\n",
        "model2 = Sequential([\n",
        "    emdedding_layer,\n",
        "    SimpleRNN(64),\n",
        "    Dense(128, activation='relu'),\n",
        "    Dropout(0.3),\n",
        "    Dense(64, activation='relu'),\n",
        "    Dropout(0.5),\n",
        "    Dense(1, activation='sigmoid')\n",
        "])\n",
        "\n",
        "model2.compile(loss='binary_crossentropy',\n",
        "              optimizer='adam',\n",
        "              metrics=['accuracy'])\n",
        "\n",
        "history2 = model2.fit(x_train_bad, y_train, epochs=5, batch_size=16, validation_data=(x_test_bad, y_test))"
      ],
      "metadata": {
        "colab": {
          "base_uri": "https://localhost:8080/"
        },
        "id": "LfDjotBcxoQT",
        "outputId": "c17718b4-9e28-4242-b065-60116b00cc6d"
      },
      "execution_count": null,
      "outputs": [
        {
          "output_type": "stream",
          "name": "stdout",
          "text": [
            "Epoch 1/5\n",
            "\u001b[1m1577/1577\u001b[0m \u001b[32m━━━━━━━━━━━━━━━━━━━━\u001b[0m\u001b[37m\u001b[0m \u001b[1m35s\u001b[0m 20ms/step - accuracy: 0.9297 - loss: 0.2352 - val_accuracy: 0.9561 - val_loss: 0.1477\n",
            "Epoch 2/5\n",
            "\u001b[1m1577/1577\u001b[0m \u001b[32m━━━━━━━━━━━━━━━━━━━━\u001b[0m\u001b[37m\u001b[0m \u001b[1m21s\u001b[0m 13ms/step - accuracy: 0.9780 - loss: 0.0665 - val_accuracy: 0.9640 - val_loss: 0.1368\n",
            "Epoch 3/5\n",
            "\u001b[1m1577/1577\u001b[0m \u001b[32m━━━━━━━━━━━━━━━━━━━━\u001b[0m\u001b[37m\u001b[0m \u001b[1m41s\u001b[0m 13ms/step - accuracy: 0.9919 - loss: 0.0239 - val_accuracy: 0.9586 - val_loss: 0.1917\n",
            "Epoch 4/5\n",
            "\u001b[1m1577/1577\u001b[0m \u001b[32m━━━━━━━━━━━━━━━━━━━━\u001b[0m\u001b[37m\u001b[0m \u001b[1m41s\u001b[0m 13ms/step - accuracy: 0.9973 - loss: 0.0094 - val_accuracy: 0.9586 - val_loss: 0.3118\n",
            "Epoch 5/5\n",
            "\u001b[1m1577/1577\u001b[0m \u001b[32m━━━━━━━━━━━━━━━━━━━━\u001b[0m\u001b[37m\u001b[0m \u001b[1m23s\u001b[0m 14ms/step - accuracy: 0.9985 - loss: 0.0045 - val_accuracy: 0.9577 - val_loss: 0.3102\n"
          ]
        }
      ]
    },
    {
      "cell_type": "code",
      "source": [
        "plt.figure(figsize=(12, 6))\n",
        "plt.subplot(1, 2, 1)\n",
        "plt.plot(history2.history['accuracy'], label='train')\n",
        "plt.plot(history2.history['val_accuracy'], label='test')\n",
        "plt.legend()\n",
        "plt.title('Accuracy')\n",
        "plt.subplot(1, 2, 2)\n",
        "plt.plot(history2.history['loss'], label='train')\n",
        "plt.plot(history2.history['val_loss'], label='test')\n",
        "plt.legend()\n",
        "plt.title('Loss')\n",
        "plt.show()"
      ],
      "metadata": {
        "colab": {
          "base_uri": "https://localhost:8080/",
          "height": 545
        },
        "id": "D-WqnCSryX4z",
        "outputId": "3499d09c-093f-4b71-b259-69fe5b0df633"
      },
      "execution_count": null,
      "outputs": [
        {
          "output_type": "display_data",
          "data": {
            "text/plain": [
              "<Figure size 1200x600 with 2 Axes>"
            ],
            "image/png": "[encoded data removed]"
          },
          "metadata": {}
        }
      ]
    },
    {
      "cell_type": "code",
      "source": [
        "report1 = classification_report(y_test, model2.predict(x_test_bad) > 0.5)\n",
        "print(report)"
      ],
      "metadata": {
        "colab": {
          "base_uri": "https://localhost:8080/"
        },
        "id": "hYKmY7Zz_hO3",
        "outputId": "8bef902f-1b4a-4661-a0b9-74076fa65393"
      },
      "execution_count": null,
      "outputs": [
        {
          "output_type": "stream",
          "name": "stdout",
          "text": [
            "\u001b[1m198/198\u001b[0m \u001b[32m━━━━━━━━━━━━━━━━━━━━\u001b[0m\u001b[37m\u001b[0m \u001b[1m2s\u001b[0m 6ms/step\n",
            "              precision    recall  f1-score   support\n",
            "\n",
            "           0       0.97      0.99      0.98      5864\n",
            "           1       0.80      0.54      0.64       443\n",
            "\n",
            "    accuracy                           0.96      6307\n",
            "   macro avg       0.88      0.76      0.81      6307\n",
            "weighted avg       0.95      0.96      0.95      6307\n",
            "\n"
          ]
        }
      ]
    },
    {
      "cell_type": "code",
      "source": [
        "tokenizer = Tokenizer()\n",
        "tokenizer.fit_on_texts(x_train)\n",
        "vocab_size = len(tokenizer.word_index) +1\n",
        "\n",
        "x_train_bad = tokenizer.texts_to_sequences(x_train)\n",
        "x_test_bad = tokenizer.texts_to_sequences(x_test)\n",
        "\n",
        "max_len = 70\n",
        "x_train_bad = pad_sequences(x_train_bad, maxlen=max_len)\n",
        "x_test_bad = pad_sequences(x_test_bad, maxlen=max_len)\n",
        "\n",
        "emdedding_layer = Embedding(input_dim=vocab_size, output_dim=100, input_length=max_len)\n",
        "\n",
        "model2 = Sequential([\n",
        "    emdedding_layer,\n",
        "    SimpleRNN(32),\n",
        "    Dense(32, activation='relu'),\n",
        "    Dropout(0.5),\n",
        "    Dense(1, activation='sigmoid')\n",
        "])\n",
        "\n",
        "model2.compile(loss='binary_crossentropy',\n",
        "              optimizer='adam',\n",
        "              metrics=['accuracy'])\n",
        "\n",
        "history2 = model2.fit(x_train_bad, y_train, epochs=10, batch_size=32, validation_data=(x_test_bad, y_test))"
      ],
      "metadata": {
        "colab": {
          "base_uri": "https://localhost:8080/"
        },
        "id": "TAk3L2F5zxA7",
        "outputId": "4658f5c3-7bfc-4ee8-9cef-fc3719f814f5"
      },
      "execution_count": null,
      "outputs": [
        {
          "output_type": "stream",
          "name": "stdout",
          "text": [
            "Epoch 1/10\n",
            "\u001b[1m789/789\u001b[0m \u001b[32m━━━━━━━━━━━━━━━━━━━━\u001b[0m\u001b[37m\u001b[0m \u001b[1m12s\u001b[0m 11ms/step - accuracy: 0.9217 - loss: 0.2660 - val_accuracy: 0.9600 - val_loss: 0.1211\n",
            "Epoch 2/10\n",
            "\u001b[1m789/789\u001b[0m \u001b[32m━━━━━━━━━━━━━━━━━━━━\u001b[0m\u001b[37m\u001b[0m \u001b[1m7s\u001b[0m 9ms/step - accuracy: 0.9846 - loss: 0.0581 - val_accuracy: 0.9624 - val_loss: 0.1478\n",
            "Epoch 3/10\n",
            "\u001b[1m789/789\u001b[0m \u001b[32m━━━━━━━━━━━━━━━━━━━━\u001b[0m\u001b[37m\u001b[0m \u001b[1m6s\u001b[0m 8ms/step - accuracy: 0.9979 - loss: 0.0109 - val_accuracy: 0.9548 - val_loss: 0.1961\n",
            "Epoch 4/10\n",
            "\u001b[1m789/789\u001b[0m \u001b[32m━━━━━━━━━━━━━━━━━━━━\u001b[0m\u001b[37m\u001b[0m \u001b[1m10s\u001b[0m 8ms/step - accuracy: 0.9990 - loss: 0.0045 - val_accuracy: 0.9602 - val_loss: 0.2542\n",
            "Epoch 5/10\n",
            "\u001b[1m789/789\u001b[0m \u001b[32m━━━━━━━━━━━━━━━━━━━━\u001b[0m\u001b[37m\u001b[0m \u001b[1m7s\u001b[0m 8ms/step - accuracy: 0.9995 - loss: 0.0021 - val_accuracy: 0.9573 - val_loss: 0.2714\n",
            "Epoch 6/10\n",
            "\u001b[1m789/789\u001b[0m \u001b[32m━━━━━━━━━━━━━━━━━━━━\u001b[0m\u001b[37m\u001b[0m \u001b[1m6s\u001b[0m 8ms/step - accuracy: 0.9996 - loss: 0.0020 - val_accuracy: 0.9596 - val_loss: 0.2895\n",
            "Epoch 7/10\n",
            "\u001b[1m789/789\u001b[0m \u001b[32m━━━━━━━━━━━━━━━━━━━━\u001b[0m\u001b[37m\u001b[0m \u001b[1m7s\u001b[0m 8ms/step - accuracy: 0.9992 - loss: 0.0031 - val_accuracy: 0.9499 - val_loss: 0.5823\n",
            "Epoch 8/10\n",
            "\u001b[1m789/789\u001b[0m \u001b[32m━━━━━━━━━━━━━━━━━━━━\u001b[0m\u001b[37m\u001b[0m \u001b[1m11s\u001b[0m 9ms/step - accuracy: 0.9954 - loss: 0.0149 - val_accuracy: 0.9583 - val_loss: 0.2647\n",
            "Epoch 9/10\n",
            "\u001b[1m789/789\u001b[0m \u001b[32m━━━━━━━━━━━━━━━━━━━━\u001b[0m\u001b[37m\u001b[0m \u001b[1m6s\u001b[0m 8ms/step - accuracy: 0.9995 - loss: 0.0024 - val_accuracy: 0.9581 - val_loss: 0.2623\n",
            "Epoch 10/10\n",
            "\u001b[1m789/789\u001b[0m \u001b[32m━━━━━━━━━━━━━━━━━━━━\u001b[0m\u001b[37m\u001b[0m \u001b[1m7s\u001b[0m 8ms/step - accuracy: 0.9996 - loss: 0.0014 - val_accuracy: 0.9551 - val_loss: 0.3180\n"
          ]
        }
      ]
    },
    {
      "cell_type": "markdown",
      "source": [
        "####RNN bidrictional"
      ],
      "metadata": {
        "id": "1dDN3aGX59cW"
      }
    },
    {
      "cell_type": "code",
      "source": [
        "from keras.callbacks import EarlyStopping"
      ],
      "metadata": {
        "id": "SbVzxQw5-p2I"
      },
      "execution_count": null,
      "outputs": []
    },
    {
      "cell_type": "code",
      "source": [
        "from keras.layers import Bidirectional\n",
        "\n",
        "tokenizer = Tokenizer()\n",
        "tokenizer.fit_on_texts(x_train)\n",
        "vocab_size = len(tokenizer.word_index) + 1\n",
        "\n",
        "x_train_bad = tokenizer.texts_to_sequences(x_train)\n",
        "x_test_bad = tokenizer.texts_to_sequences(x_test)\n",
        "\n",
        "max_len = 100\n",
        "x_train_bad = pad_sequences(x_train_bad, maxlen=max_len)\n",
        "x_test_bad = pad_sequences(x_test_bad, maxlen=max_len)\n",
        "\n",
        "emdedding_layer = Embedding(input_dim=vocab_size, output_dim=50, input_length=max_len)\n",
        "\n",
        "earlystop = EarlyStopping(monitor='val_loss', patience=2, verbose=1, restore_best_weights=True)\n",
        "model4 = Sequential([\n",
        "    emdedding_layer,\n",
        "    Bidirectional(SimpleRNN(16)),  # Wrapped with Bidirectional\n",
        "    Dense(8, activation='relu'),\n",
        "    Dropout(0.3),\n",
        "    Dense(1, activation='sigmoid')\n",
        "])\n",
        "\n",
        "model4.compile(loss='binary_crossentropy',\n",
        "              optimizer='adam',\n",
        "              metrics=['accuracy'])\n",
        "\n",
        "history4 = model4.fit(x_train_bad, y_train, epochs=5, batch_size=32, validation_data=(x_test_bad, y_test))"
      ],
      "metadata": {
        "colab": {
          "base_uri": "https://localhost:8080/"
        },
        "id": "QbmJFiCp6BB7",
        "outputId": "ac0a615f-1ddb-4f3a-e7f4-dac5613bd4b3"
      },
      "execution_count": null,
      "outputs": [
        {
          "output_type": "stream",
          "name": "stdout",
          "text": [
            "Epoch 1/5\n"
          ]
        },
        {
          "output_type": "stream",
          "name": "stderr",
          "text": [
            "/usr/local/lib/python3.11/dist-packages/keras/src/layers/core/embedding.py:90: UserWarning: Argument `input_length` is deprecated. Just remove it.\n",
            "  warnings.warn(\n"
          ]
        },
        {
          "output_type": "stream",
          "name": "stdout",
          "text": [
            "\u001b[1m789/789\u001b[0m \u001b[32m━━━━━━━━━━━━━━━━━━━━\u001b[0m\u001b[37m\u001b[0m \u001b[1m22s\u001b[0m 21ms/step - accuracy: 0.9184 - loss: 0.3123 - val_accuracy: 0.9559 - val_loss: 0.1388\n",
            "Epoch 2/5\n",
            "\u001b[1m789/789\u001b[0m \u001b[32m━━━━━━━━━━━━━━━━━━━━\u001b[0m\u001b[37m\u001b[0m \u001b[1m15s\u001b[0m 16ms/step - accuracy: 0.9710 - loss: 0.1019 - val_accuracy: 0.9604 - val_loss: 0.1293\n",
            "Epoch 3/5\n",
            "\u001b[1m789/789\u001b[0m \u001b[32m━━━━━━━━━━━━━━━━━━━━\u001b[0m\u001b[37m\u001b[0m \u001b[1m13s\u001b[0m 17ms/step - accuracy: 0.9928 - loss: 0.0290 - val_accuracy: 0.9569 - val_loss: 0.1795\n",
            "Epoch 4/5\n",
            "\u001b[1m789/789\u001b[0m \u001b[32m━━━━━━━━━━━━━━━━━━━━\u001b[0m\u001b[37m\u001b[0m \u001b[1m20s\u001b[0m 17ms/step - accuracy: 0.9972 - loss: 0.0131 - val_accuracy: 0.9507 - val_loss: 0.2386\n",
            "Epoch 5/5\n",
            "\u001b[1m789/789\u001b[0m \u001b[32m━━━━━━━━━━━━━━━━━━━━\u001b[0m\u001b[37m\u001b[0m \u001b[1m21s\u001b[0m 18ms/step - accuracy: 0.9973 - loss: 0.0077 - val_accuracy: 0.9581 - val_loss: 0.2761\n"
          ]
        }
      ]
    },
    {
      "cell_type": "code",
      "source": [
        "plt.figure(figsize=(12, 6))\n",
        "plt.subplot(1, 2, 1)\n",
        "plt.plot(history4.history['accuracy'], label='train')\n",
        "plt.plot(history4.history['val_accuracy'], label='test')\n",
        "plt.legend()\n",
        "plt.title('Accuracy')\n",
        "plt.subplot(1, 2, 2)\n",
        "plt.plot(history4.history['loss'], label='train')\n",
        "plt.plot(history4.history['val_loss'], label='test')\n",
        "plt.legend()\n",
        "plt.title('Loss')\n",
        "plt.show()"
      ],
      "metadata": {
        "colab": {
          "base_uri": "https://localhost:8080/",
          "height": 545
        },
        "id": "GeIrh_k88-_j",
        "outputId": "7436b950-2920-440f-ff65-a1de85b9d30a"
      },
      "execution_count": null,
      "outputs": [
        {
          "output_type": "display_data",
          "data": {
            "text/plain": [
              "<Figure size 1200x600 with 2 Axes>"
            ],
            "image/png": "[encoded data removed]"
          },
          "metadata": {}
        }
      ]
    },
    {
      "cell_type": "code",
      "source": [
        "from sklearn.metrics import classification_report\n",
        "\n",
        "report = classification_report(y_test, model4.predict(x_test_bad) > 0.5)\n",
        "print(report)"
      ],
      "metadata": {
        "colab": {
          "base_uri": "https://localhost:8080/"
        },
        "id": "lc6AXYLD_IWi",
        "outputId": "755f38a5-518a-4582-843c-5716ec8a2102"
      },
      "execution_count": null,
      "outputs": [
        {
          "output_type": "stream",
          "name": "stdout",
          "text": [
            "\u001b[1m198/198\u001b[0m \u001b[32m━━━━━━━━━━━━━━━━━━━━\u001b[0m\u001b[37m\u001b[0m \u001b[1m2s\u001b[0m 8ms/step\n",
            "              precision    recall  f1-score   support\n",
            "\n",
            "           0       0.97      0.99      0.98      5864\n",
            "           1       0.80      0.54      0.64       443\n",
            "\n",
            "    accuracy                           0.96      6307\n",
            "   macro avg       0.88      0.76      0.81      6307\n",
            "weighted avg       0.95      0.96      0.95      6307\n",
            "\n"
          ]
        }
      ]
    },
    {
      "cell_type": "markdown",
      "source": [
        "###ANN with BOW"
      ],
      "metadata": {
        "id": "RHA3TFqQhRNx"
      }
    },
    {
      "cell_type": "code",
      "source": [
        "from sklearn.metrics import f1_score\n",
        "from tensorflow.keras.callbacks import EarlyStopping"
      ],
      "metadata": {
        "id": "KA37Zt1j6y3F"
      },
      "execution_count": null,
      "outputs": []
    },
    {
      "cell_type": "code",
      "source": [
        "from tkinter.constants import E\n",
        "model3 = tf.keras.models.Sequential([\n",
        "    tf.keras.layers.Input(shape=(35881,)),  # Input shape matches GloVe vector size (100)\n",
        "    tf.keras.layers.Dense(32, activation='relu'),\n",
        "    tf.keras.layers.Dense(1, activation='sigmoid')\n",
        "])\n",
        "\n",
        "model3.compile(loss='binary_crossentropy',\n",
        "              optimizer=tf.keras.optimizers.Adam(learning_rate=0.001),\n",
        "              metrics=['accuracy'])\n",
        "earlystop = EarlyStopping(monitor='val_loss', patience=3, verbose=1)\n",
        "\n",
        "# Train the model\n",
        "history3 = model3.fit(\n",
        "    x_train_bow, y_train,\n",
        "    epochs=10,\n",
        "    batch_size=64,\n",
        "    validation_data=(x_test_bow, y_test),\n",
        "    verbose=1\n",
        ")\n"
      ],
      "metadata": {
        "id": "G9jLqhBZRXjx",
        "outputId": "f4f2a7e2-097f-4de7-9329-6b482bae1ba2",
        "colab": {
          "base_uri": "https://localhost:8080/"
        }
      },
      "execution_count": null,
      "outputs": [
        {
          "output_type": "stream",
          "name": "stdout",
          "text": [
            "Epoch 1/10\n",
            "\u001b[1m395/395\u001b[0m \u001b[32m━━━━━━━━━━━━━━━━━━━━\u001b[0m\u001b[37m\u001b[0m \u001b[1m73s\u001b[0m 180ms/step - accuracy: 0.8968 - loss: 0.4129 - val_accuracy: 0.9580 - val_loss: 0.1384\n",
            "Epoch 2/10\n",
            "\u001b[1m395/395\u001b[0m \u001b[32m━━━━━━━━━━━━━━━━━━━━\u001b[0m\u001b[37m\u001b[0m \u001b[1m15s\u001b[0m 37ms/step - accuracy: 0.9695 - loss: 0.0956 - val_accuracy: 0.9638 - val_loss: 0.1128\n",
            "Epoch 3/10\n",
            "\u001b[1m395/395\u001b[0m \u001b[32m━━━━━━━━━━━━━━━━━━━━\u001b[0m\u001b[37m\u001b[0m \u001b[1m15s\u001b[0m 23ms/step - accuracy: 0.9869 - loss: 0.0449 - val_accuracy: 0.9650 - val_loss: 0.1131\n",
            "Epoch 4/10\n",
            "\u001b[1m395/395\u001b[0m \u001b[32m━━━━━━━━━━━━━━━━━━━━\u001b[0m\u001b[37m\u001b[0m \u001b[1m7s\u001b[0m 17ms/step - accuracy: 0.9936 - loss: 0.0257 - val_accuracy: 0.9654 - val_loss: 0.1169\n",
            "Epoch 5/10\n",
            "\u001b[1m395/395\u001b[0m \u001b[32m━━━━━━━━━━━━━━━━━━━━\u001b[0m\u001b[37m\u001b[0m \u001b[1m6s\u001b[0m 14ms/step - accuracy: 0.9961 - loss: 0.0172 - val_accuracy: 0.9638 - val_loss: 0.1218\n",
            "Epoch 6/10\n",
            "\u001b[1m395/395\u001b[0m \u001b[32m━━━━━━━━━━━━━━━━━━━━\u001b[0m\u001b[37m\u001b[0m \u001b[1m8s\u001b[0m 18ms/step - accuracy: 0.9975 - loss: 0.0111 - val_accuracy: 0.9623 - val_loss: 0.1295\n",
            "Epoch 7/10\n",
            "\u001b[1m395/395\u001b[0m \u001b[32m━━━━━━━━━━━━━━━━━━━━\u001b[0m\u001b[37m\u001b[0m \u001b[1m6s\u001b[0m 14ms/step - accuracy: 0.9978 - loss: 0.0089 - val_accuracy: 0.9615 - val_loss: 0.1377\n",
            "Epoch 8/10\n",
            "\u001b[1m395/395\u001b[0m \u001b[32m━━━━━━━━━━━━━━━━━━━━\u001b[0m\u001b[37m\u001b[0m \u001b[1m6s\u001b[0m 16ms/step - accuracy: 0.9988 - loss: 0.0058 - val_accuracy: 0.9613 - val_loss: 0.1461\n",
            "Epoch 9/10\n",
            "\u001b[1m395/395\u001b[0m \u001b[32m━━━━━━━━━━━━━━━━━━━━\u001b[0m\u001b[37m\u001b[0m \u001b[1m6s\u001b[0m 16ms/step - accuracy: 0.9985 - loss: 0.0053 - val_accuracy: 0.9605 - val_loss: 0.1562\n",
            "Epoch 10/10\n",
            "\u001b[1m395/395\u001b[0m \u001b[32m━━━━━━━━━━━━━━━━━━━━\u001b[0m\u001b[37m\u001b[0m \u001b[1m9s\u001b[0m 14ms/step - accuracy: 0.9991 - loss: 0.0037 - val_accuracy: 0.9600 - val_loss: 0.1643\n"
          ]
        }
      ]
    },
    {
      "cell_type": "code",
      "source": [
        "import matplotlib.pyplot as plt"
      ],
      "metadata": {
        "id": "fJ8qxPNyhGgu"
      },
      "execution_count": null,
      "outputs": []
    },
    {
      "cell_type": "code",
      "source": [
        "plt.figure(figsize=(12, 6))\n",
        "plt.subplot(1, 2, 1)\n",
        "plt.plot(history3.history['accuracy'], label='train')\n",
        "plt.plot(history3.history['val_accuracy'], label='test')\n",
        "plt.legend()\n",
        "plt.title('Accuracy')\n",
        "plt.subplot(1, 2, 2)\n",
        "plt.plot(history3.history['loss'], label='train')\n",
        "plt.plot(history3.history['val_loss'], label='test')\n",
        "plt.legend()\n",
        "plt.title('Loss')\n",
        "plt.show()"
      ],
      "metadata": {
        "colab": {
          "base_uri": "https://localhost:8080/",
          "height": 545
        },
        "id": "DhMcBmAM2W09",
        "outputId": "6adc34eb-03e4-4f9f-be81-a079206c3e65"
      },
      "execution_count": null,
      "outputs": [
        {
          "output_type": "display_data",
          "data": {
            "text/plain": [
              "<Figure size 1200x600 with 2 Axes>"
            ],
            "image/png": "[encoded data removed]"
          },
          "metadata": {}
        }
      ]
    },
    {
      "cell_type": "code",
      "source": [
        "report = classification_report(y_test, model3.predict(x_test_bow) > 0.5)\n",
        "print(report)"
      ],
      "metadata": {
        "colab": {
          "base_uri": "https://localhost:8080/"
        },
        "id": "hZxH_81-A3h6",
        "outputId": "86b87405-ef7d-496b-fc4d-af415fff884e"
      },
      "execution_count": null,
      "outputs": [
        {
          "output_type": "stream",
          "name": "stdout",
          "text": [
            "\u001b[1m198/198\u001b[0m \u001b[32m━━━━━━━━━━━━━━━━━━━━\u001b[0m\u001b[37m\u001b[0m \u001b[1m9s\u001b[0m 43ms/step\n",
            "              precision    recall  f1-score   support\n",
            "\n",
            "           0       0.97      0.99      0.98      5864\n",
            "           1       0.78      0.60      0.68       443\n",
            "\n",
            "    accuracy                           0.96      6307\n",
            "   macro avg       0.88      0.79      0.83      6307\n",
            "weighted avg       0.96      0.96      0.96      6307\n",
            "\n"
          ]
        }
      ]
    },
    {
      "cell_type": "code",
      "source": [
        "y_pred = model3.predict(x_test_bow) > 0.5\n",
        "calculated_f1_score = f1_score(y_test, y_pred, average='macro')\n",
        "print(calculated_f1_score)"
      ],
      "metadata": {
        "colab": {
          "base_uri": "https://localhost:8080/"
        },
        "id": "1xlpHpm1iarq",
        "outputId": "45601067-2be4-4872-c936-2482f865099c"
      },
      "execution_count": null,
      "outputs": [
        {
          "output_type": "stream",
          "name": "stdout",
          "text": [
            "\u001b[1m198/198\u001b[0m \u001b[32m━━━━━━━━━━━━━━━━━━━━\u001b[0m\u001b[37m\u001b[0m \u001b[1m1s\u001b[0m 4ms/step\n",
            "0.8294470327360948\n"
          ]
        }
      ]
    },
    {
      "cell_type": "markdown",
      "source": [
        "###GRU"
      ],
      "metadata": {
        "id": "ivCc01Qh5uoS"
      }
    },
    {
      "cell_type": "code",
      "source": [
        "from keras.layers import GRU"
      ],
      "metadata": {
        "id": "M04z1lf4B--i"
      },
      "execution_count": null,
      "outputs": []
    },
    {
      "cell_type": "code",
      "source": [
        "tokenizer = Tokenizer()\n",
        "tokenizer.fit_on_texts(x_train)\n",
        "vocab_size = len(tokenizer.word_index) + 1\n",
        "\n",
        "x_train_bad = tokenizer.texts_to_sequences(x_train)\n",
        "x_test_bad = tokenizer.texts_to_sequences(x_test)\n",
        "\n",
        "max_len = 100\n",
        "x_train_bad = pad_sequences(x_train_bad, maxlen=max_len)\n",
        "x_test_bad = pad_sequences(x_test_bad, maxlen=max_len)\n",
        "\n",
        "emdedding_layer = Embedding(input_dim=vocab_size, output_dim=50, input_length=max_len)\n",
        "\n",
        "earlystop = EarlyStopping(monitor='val_loss', patience=2, verbose=1, restore_best_weights=True)\n",
        "model5 = Sequential([\n",
        "    emdedding_layer,\n",
        "    (GRU(32)),  # Wrapped with Bidirectional\n",
        "    Dense(64, activation='relu'),\n",
        "    Dropout(0.3),\n",
        "    Dense(1, activation='sigmoid')\n",
        "])\n",
        "\n",
        "model5.compile(loss='binary_crossentropy',\n",
        "              optimizer='adam',\n",
        "              metrics=['accuracy'])\n",
        "\n",
        "history5 = model4.fit(x_train_bad, y_train, epochs=10, batch_size=32, validation_data=(x_test_bad, y_test))"
      ],
      "metadata": {
        "colab": {
          "base_uri": "https://localhost:8080/"
        },
        "id": "yVJGr-Eq7sSL",
        "outputId": "82795a83-1a00-414f-bc04-cbbee6516fef"
      },
      "execution_count": null,
      "outputs": [
        {
          "output_type": "stream",
          "name": "stdout",
          "text": [
            "Epoch 1/10\n",
            "\u001b[1m 11/789\u001b[0m \u001b[37m━━━━━━━━━━━━━━━━━━━━\u001b[0m \u001b[1m7s\u001b[0m 10ms/step - accuracy: 1.0000 - loss: 0.0021"
          ]
        },
        {
          "output_type": "stream",
          "name": "stderr",
          "text": [
            "/usr/local/lib/python3.11/dist-packages/keras/src/layers/core/embedding.py:90: UserWarning: Argument `input_length` is deprecated. Just remove it.\n",
            "  warnings.warn(\n"
          ]
        },
        {
          "output_type": "stream",
          "name": "stdout",
          "text": [
            "\u001b[1m789/789\u001b[0m \u001b[32m━━━━━━━━━━━━━━━━━━━━\u001b[0m\u001b[37m\u001b[0m \u001b[1m10s\u001b[0m 12ms/step - accuracy: 0.9994 - loss: 0.0035 - val_accuracy: 0.9561 - val_loss: 0.5071\n",
            "Epoch 2/10\n",
            "\u001b[1m789/789\u001b[0m \u001b[32m━━━━━━━━━━━━━━━━━━━━\u001b[0m\u001b[37m\u001b[0m \u001b[1m8s\u001b[0m 10ms/step - accuracy: 0.9996 - loss: 0.0024 - val_accuracy: 0.9531 - val_loss: 0.5363\n",
            "Epoch 3/10\n",
            "\u001b[1m789/789\u001b[0m \u001b[32m━━━━━━━━━━━━━━━━━━━━\u001b[0m\u001b[37m\u001b[0m \u001b[1m10s\u001b[0m 10ms/step - accuracy: 0.9995 - loss: 0.0028 - val_accuracy: 0.9551 - val_loss: 0.5185\n",
            "Epoch 4/10\n",
            "\u001b[1m789/789\u001b[0m \u001b[32m━━━━━━━━━━━━━━━━━━━━\u001b[0m\u001b[37m\u001b[0m \u001b[1m10s\u001b[0m 9ms/step - accuracy: 0.9996 - loss: 0.0024 - val_accuracy: 0.9547 - val_loss: 0.5236\n",
            "Epoch 5/10\n",
            "\u001b[1m789/789\u001b[0m \u001b[32m━━━━━━━━━━━━━━━━━━━━\u001b[0m\u001b[37m\u001b[0m \u001b[1m10s\u001b[0m 9ms/step - accuracy: 0.9998 - loss: 0.0015 - val_accuracy: 0.9526 - val_loss: 0.5891\n",
            "Epoch 6/10\n",
            "\u001b[1m789/789\u001b[0m \u001b[32m━━━━━━━━━━━━━━━━━━━━\u001b[0m\u001b[37m\u001b[0m \u001b[1m11s\u001b[0m 10ms/step - accuracy: 0.9995 - loss: 0.0023 - val_accuracy: 0.9543 - val_loss: 0.5792\n",
            "Epoch 7/10\n",
            "\u001b[1m789/789\u001b[0m \u001b[32m━━━━━━━━━━━━━━━━━━━━\u001b[0m\u001b[37m\u001b[0m \u001b[1m10s\u001b[0m 9ms/step - accuracy: 0.9997 - loss: 0.0015 - val_accuracy: 0.9531 - val_loss: 0.6035\n",
            "Epoch 8/10\n",
            "\u001b[1m789/789\u001b[0m \u001b[32m━━━━━━━━━━━━━━━━━━━━\u001b[0m\u001b[37m\u001b[0m \u001b[1m8s\u001b[0m 11ms/step - accuracy: 0.9999 - loss: 9.7250e-04 - val_accuracy: 0.9508 - val_loss: 0.6697\n",
            "Epoch 9/10\n",
            "\u001b[1m789/789\u001b[0m \u001b[32m━━━━━━━━━━━━━━━━━━━━\u001b[0m\u001b[37m\u001b[0m \u001b[1m10s\u001b[0m 10ms/step - accuracy: 0.9997 - loss: 0.0019 - val_accuracy: 0.9518 - val_loss: 0.6323\n",
            "Epoch 10/10\n",
            "\u001b[1m789/789\u001b[0m \u001b[32m━━━━━━━━━━━━━━━━━━━━\u001b[0m\u001b[37m\u001b[0m \u001b[1m10s\u001b[0m 11ms/step - accuracy: 0.9998 - loss: 0.0012 - val_accuracy: 0.9505 - val_loss: 0.6916\n"
          ]
        }
      ]
    },
    {
      "cell_type": "code",
      "source": [
        "report = classification_report(y_test, model5.predict(x_test_bad) > 0.5)\n",
        "print(report)"
      ],
      "metadata": {
        "colab": {
          "base_uri": "https://localhost:8080/"
        },
        "id": "x7TZdJoMCmcM",
        "outputId": "193efed9-0db3-44b7-df9b-9173d08f383e"
      },
      "execution_count": null,
      "outputs": [
        {
          "output_type": "stream",
          "name": "stdout",
          "text": [
            "\u001b[1m198/198\u001b[0m \u001b[32m━━━━━━━━━━━━━━━━━━━━\u001b[0m\u001b[37m\u001b[0m \u001b[1m1s\u001b[0m 4ms/step\n",
            "              precision    recall  f1-score   support\n",
            "\n",
            "           0       0.92      0.48      0.63      5864\n",
            "           1       0.07      0.48      0.11       443\n",
            "\n",
            "    accuracy                           0.48      6307\n",
            "   macro avg       0.49      0.48      0.37      6307\n",
            "weighted avg       0.86      0.48      0.60      6307\n",
            "\n"
          ]
        }
      ]
    },
    {
      "cell_type": "markdown",
      "source": [
        "####GRU with bidrictional"
      ],
      "metadata": {
        "id": "4L1NVpNaCqtY"
      }
    },
    {
      "cell_type": "code",
      "source": [
        "from keras.layers import Bidirectional\n",
        "\n",
        "tokenizer = Tokenizer()\n",
        "tokenizer.fit_on_texts(x_train)\n",
        "vocab_size = len(tokenizer.word_index) + 1\n",
        "\n",
        "x_train_bad = tokenizer.texts_to_sequences(x_train)\n",
        "x_test_bad = tokenizer.texts_to_sequences(x_test)\n",
        "\n",
        "max_len = 100\n",
        "x_train_bad = pad_sequences(x_train_bad, maxlen=max_len)\n",
        "x_test_bad = pad_sequences(x_test_bad, maxlen=max_len)\n",
        "\n",
        "emdedding_layer = Embedding(input_dim=vocab_size, output_dim=50, input_length=max_len)\n",
        "\n",
        "earlystop = EarlyStopping(monitor='val_loss', patience=2, verbose=1, restore_best_weights=True)\n",
        "model6 = Sequential([\n",
        "    emdedding_layer,\n",
        "    Bidirectional(GRU(16)),  # Wrapped with Bidirectional\n",
        "    Dense(8, activation='relu'),\n",
        "    Dropout(0.3),\n",
        "    Dense(1, activation='sigmoid')\n",
        "])\n",
        "\n",
        "model6.compile(loss='binary_crossentropy',\n",
        "              optimizer='adam',\n",
        "              metrics=['accuracy'])\n",
        "\n",
        "history6 = model6.fit(x_train_bad, y_train, epochs=5, batch_size=32, validation_data=(x_test_bad, y_test))"
      ],
      "metadata": {
        "colab": {
          "base_uri": "https://localhost:8080/"
        },
        "id": "mkgFXsjdC4Fp",
        "outputId": "a855ca15-cfe8-4cb5-f9f2-f3cb39c1f0ca"
      },
      "execution_count": null,
      "outputs": [
        {
          "output_type": "stream",
          "name": "stdout",
          "text": [
            "Epoch 1/5\n",
            "\u001b[1m789/789\u001b[0m \u001b[32m━━━━━━━━━━━━━━━━━━━━\u001b[0m\u001b[37m\u001b[0m \u001b[1m14s\u001b[0m 14ms/step - accuracy: 0.9229 - loss: 0.2693 - val_accuracy: 0.9619 - val_loss: 0.1171\n",
            "Epoch 2/5\n",
            "\u001b[1m789/789\u001b[0m \u001b[32m━━━━━━━━━━━━━━━━━━━━\u001b[0m\u001b[37m\u001b[0m \u001b[1m12s\u001b[0m 15ms/step - accuracy: 0.9682 - loss: 0.0778 - val_accuracy: 0.9631 - val_loss: 0.1245\n",
            "Epoch 3/5\n",
            "\u001b[1m789/789\u001b[0m \u001b[32m━━━━━━━━━━━━━━━━━━━━\u001b[0m\u001b[37m\u001b[0m \u001b[1m10s\u001b[0m 13ms/step - accuracy: 0.9737 - loss: 0.0446 - val_accuracy: 0.9616 - val_loss: 0.1769\n",
            "Epoch 4/5\n",
            "\u001b[1m789/789\u001b[0m \u001b[32m━━━━━━━━━━━━━━━━━━━━\u001b[0m\u001b[37m\u001b[0m \u001b[1m11s\u001b[0m 13ms/step - accuracy: 0.9840 - loss: 0.0316 - val_accuracy: 0.9619 - val_loss: 0.2278\n",
            "Epoch 5/5\n",
            "\u001b[1m789/789\u001b[0m \u001b[32m━━━━━━━━━━━━━━━━━━━━\u001b[0m\u001b[37m\u001b[0m \u001b[1m21s\u001b[0m 14ms/step - accuracy: 0.9913 - loss: 0.0240 - val_accuracy: 0.9575 - val_loss: 0.2679\n"
          ]
        }
      ]
    },
    {
      "cell_type": "code",
      "source": [
        "report = classification_report(y_test, model6.predict(x_test_bad) > 0.5)\n",
        "print(report)"
      ],
      "metadata": {
        "colab": {
          "base_uri": "https://localhost:8080/"
        },
        "id": "HEtAxIxtD2dh",
        "outputId": "3dbf598e-5ac7-41ee-c416-04df36c3a06d"
      },
      "execution_count": null,
      "outputs": [
        {
          "output_type": "stream",
          "name": "stdout",
          "text": [
            "\u001b[1m198/198\u001b[0m \u001b[32m━━━━━━━━━━━━━━━━━━━━\u001b[0m\u001b[37m\u001b[0m \u001b[1m1s\u001b[0m 5ms/step\n",
            "              precision    recall  f1-score   support\n",
            "\n",
            "           0       0.97      0.99      0.98      5864\n",
            "           1       0.80      0.59      0.68       443\n",
            "\n",
            "    accuracy                           0.96      6307\n",
            "   macro avg       0.88      0.79      0.83      6307\n",
            "weighted avg       0.96      0.96      0.96      6307\n",
            "\n"
          ]
        }
      ]
    },
    {
      "cell_type": "code",
      "source": [
        "y_pred = model6.predict(x_test_bad) > 0.5\n",
        "calculated_f1_score = f1_score(y_test, y_pred, average='macro')\n",
        "print(calculated_f1_score)"
      ],
      "metadata": {
        "colab": {
          "base_uri": "https://localhost:8080/"
        },
        "id": "XlWGVDG3i8ui",
        "outputId": "6d4cf5cf-b24d-4456-de1e-b89b4dd0a47c"
      },
      "execution_count": null,
      "outputs": [
        {
          "output_type": "stream",
          "name": "stdout",
          "text": [
            "\u001b[1m198/198\u001b[0m \u001b[32m━━━━━━━━━━━━━━━━━━━━\u001b[0m\u001b[37m\u001b[0m \u001b[1m1s\u001b[0m 5ms/step\n",
            "0.8305923848376678\n"
          ]
        }
      ]
    },
    {
      "cell_type": "markdown",
      "source": [
        "###LSTM"
      ],
      "metadata": {
        "id": "JPTuZGhhEmrg"
      }
    },
    {
      "cell_type": "code",
      "source": [
        "from keras.layers import LSTM\n",
        "\n",
        "tokenizer = Tokenizer()\n",
        "tokenizer.fit_on_texts(x_train)\n",
        "vocab_size = len(tokenizer.word_index) + 1\n",
        "\n",
        "x_train_bad = tokenizer.texts_to_sequences(x_train)\n",
        "x_test_bad = tokenizer.texts_to_sequences(x_test)\n",
        "\n",
        "max_len = 50\n",
        "x_train_bad = pad_sequences(x_train_bad, maxlen=max_len)\n",
        "x_test_bad = pad_sequences(x_test_bad, maxlen=max_len)\n",
        "\n",
        "emdedding_layer = Embedding(input_dim=vocab_size, output_dim=100, input_length=max_len)\n",
        "\n",
        "earlystop = EarlyStopping(monitor='val_loss', patience=2, verbose=1, restore_best_weights=True)\n",
        "model7 = Sequential([\n",
        "    emdedding_layer,\n",
        "    (LSTM(32)),  # Wrapped with Bidirectional\n",
        "    Dense(16, activation='relu'),\n",
        "    Dropout(0.3),\n",
        "    Dense(1, activation='sigmoid')\n",
        "])\n",
        "\n",
        "model7.compile(loss='binary_crossentropy',\n",
        "              optimizer='adam',\n",
        "              metrics=['accuracy'])\n",
        "\n",
        "history7 = model7.fit(x_train_bad, y_train, epochs=10, batch_size=32, validation_data=(x_test_bad, y_test))"
      ],
      "metadata": {
        "colab": {
          "base_uri": "https://localhost:8080/"
        },
        "id": "AMZVCHfrEqub",
        "outputId": "c5faee0b-a08d-4ded-c0a0-11c373a074a0"
      },
      "execution_count": null,
      "outputs": [
        {
          "output_type": "stream",
          "name": "stdout",
          "text": [
            "Epoch 1/10\n"
          ]
        },
        {
          "output_type": "stream",
          "name": "stderr",
          "text": [
            "/usr/local/lib/python3.11/dist-packages/keras/src/layers/core/embedding.py:90: UserWarning: Argument `input_length` is deprecated. Just remove it.\n",
            "  warnings.warn(\n"
          ]
        },
        {
          "output_type": "stream",
          "name": "stdout",
          "text": [
            "\u001b[1m789/789\u001b[0m \u001b[32m━━━━━━━━━━━━━━━━━━━━\u001b[0m\u001b[37m\u001b[0m \u001b[1m9s\u001b[0m 9ms/step - accuracy: 0.9267 - loss: 0.2723 - val_accuracy: 0.9626 - val_loss: 0.1167\n",
            "Epoch 2/10\n",
            "\u001b[1m789/789\u001b[0m \u001b[32m━━━━━━━━━━━━━━━━━━━━\u001b[0m\u001b[37m\u001b[0m \u001b[1m7s\u001b[0m 9ms/step - accuracy: 0.9822 - loss: 0.0656 - val_accuracy: 0.9651 - val_loss: 0.1363\n",
            "Epoch 3/10\n",
            "\u001b[1m789/789\u001b[0m \u001b[32m━━━━━━━━━━━━━━━━━━━━\u001b[0m\u001b[37m\u001b[0m \u001b[1m11s\u001b[0m 10ms/step - accuracy: 0.9938 - loss: 0.0219 - val_accuracy: 0.9621 - val_loss: 0.1887\n",
            "Epoch 4/10\n",
            "\u001b[1m789/789\u001b[0m \u001b[32m━━━━━━━━━━━━━━━━━━━━\u001b[0m\u001b[37m\u001b[0m \u001b[1m10s\u001b[0m 10ms/step - accuracy: 0.9977 - loss: 0.0100 - val_accuracy: 0.9562 - val_loss: 0.1950\n",
            "Epoch 5/10\n",
            "\u001b[1m789/789\u001b[0m \u001b[32m━━━━━━━━━━━━━━━━━━━━\u001b[0m\u001b[37m\u001b[0m \u001b[1m10s\u001b[0m 10ms/step - accuracy: 0.9986 - loss: 0.0063 - val_accuracy: 0.9619 - val_loss: 0.2846\n",
            "Epoch 6/10\n",
            "\u001b[1m789/789\u001b[0m \u001b[32m━━━━━━━━━━━━━━━━━━━━\u001b[0m\u001b[37m\u001b[0m \u001b[1m7s\u001b[0m 9ms/step - accuracy: 0.9992 - loss: 0.0039 - val_accuracy: 0.9619 - val_loss: 0.3057\n",
            "Epoch 7/10\n",
            "\u001b[1m789/789\u001b[0m \u001b[32m━━━━━━━━━━━━━━━━━━━━\u001b[0m\u001b[37m\u001b[0m \u001b[1m8s\u001b[0m 10ms/step - accuracy: 0.9994 - loss: 0.0020 - val_accuracy: 0.9575 - val_loss: 0.3226\n",
            "Epoch 8/10\n",
            "\u001b[1m789/789\u001b[0m \u001b[32m━━━━━━━━━━━━━━━━━━━━\u001b[0m\u001b[37m\u001b[0m \u001b[1m10s\u001b[0m 9ms/step - accuracy: 0.9996 - loss: 0.0020 - val_accuracy: 0.9600 - val_loss: 0.3960\n",
            "Epoch 9/10\n",
            "\u001b[1m789/789\u001b[0m \u001b[32m━━━━━━━━━━━━━━━━━━━━\u001b[0m\u001b[37m\u001b[0m \u001b[1m10s\u001b[0m 10ms/step - accuracy: 0.9989 - loss: 0.0046 - val_accuracy: 0.9588 - val_loss: 0.4083\n",
            "Epoch 10/10\n",
            "\u001b[1m789/789\u001b[0m \u001b[32m━━━━━━━━━━━━━━━━━━━━\u001b[0m\u001b[37m\u001b[0m \u001b[1m10s\u001b[0m 10ms/step - accuracy: 0.9996 - loss: 0.0017 - val_accuracy: 0.9575 - val_loss: 0.4611\n"
          ]
        }
      ]
    },
    {
      "cell_type": "code",
      "source": [
        "report = classification_report(y_test, model7.predict(x_test_bad) > 0.5)\n",
        "print(report)"
      ],
      "metadata": {
        "colab": {
          "base_uri": "https://localhost:8080/"
        },
        "id": "loFOZ_r4FX7Y",
        "outputId": "55d63cb3-12aa-4f89-87cb-a14569c9137a"
      },
      "execution_count": null,
      "outputs": [
        {
          "output_type": "stream",
          "name": "stdout",
          "text": [
            "\u001b[1m198/198\u001b[0m \u001b[32m━━━━━━━━━━━━━━━━━━━━\u001b[0m\u001b[37m\u001b[0m \u001b[1m1s\u001b[0m 3ms/step\n",
            "              precision    recall  f1-score   support\n",
            "\n",
            "           0       0.97      0.98      0.98      5864\n",
            "           1       0.71      0.65      0.68       443\n",
            "\n",
            "    accuracy                           0.96      6307\n",
            "   macro avg       0.84      0.82      0.83      6307\n",
            "weighted avg       0.96      0.96      0.96      6307\n",
            "\n"
          ]
        }
      ]
    },
    {
      "cell_type": "code",
      "source": [
        "y_pred = model7.predict(x_test_bad) > 0.5\n",
        "calculated_f1_score = f1_score(y_test, y_pred, average='macro')\n",
        "print(calculated_f1_score)"
      ],
      "metadata": {
        "colab": {
          "base_uri": "https://localhost:8080/"
        },
        "id": "mC1FJXAekyLI",
        "outputId": "cd911245-00b4-4ea0-8d74-5563c661d9c1"
      },
      "execution_count": null,
      "outputs": [
        {
          "output_type": "stream",
          "name": "stdout",
          "text": [
            "\u001b[1m198/198\u001b[0m \u001b[32m━━━━━━━━━━━━━━━━━━━━\u001b[0m\u001b[37m\u001b[0m \u001b[1m1s\u001b[0m 3ms/step\n",
            "0.8279533249461551\n"
          ]
        }
      ]
    },
    {
      "cell_type": "markdown",
      "source": [
        "#####try different parameters"
      ],
      "metadata": {
        "id": "dZtSI0T-F3q-"
      }
    },
    {
      "cell_type": "code",
      "source": [
        "from keras.layers import LSTM\n",
        "\n",
        "tokenizer = Tokenizer()\n",
        "tokenizer.fit_on_texts(x_train)\n",
        "vocab_size = len(tokenizer.word_index) + 1\n",
        "\n",
        "x_train_bad = tokenizer.texts_to_sequences(x_train)\n",
        "x_test_bad = tokenizer.texts_to_sequences(x_test)\n",
        "\n",
        "max_len = 50\n",
        "x_train_bad = pad_sequences(x_train_bad, maxlen=max_len)\n",
        "x_test_bad = pad_sequences(x_test_bad, maxlen=max_len)\n",
        "\n",
        "emdedding_layer = Embedding(input_dim=20000, output_dim=50, input_length=max_len)\n",
        "\n",
        "earlystop = EarlyStopping(monitor='val_loss', patience=2, verbose=1, restore_best_weights=True)\n",
        "model8 = Sequential([\n",
        "    emdedding_layer,\n",
        "    (LSTM(32)),  # Wrapped with Bidirectional\n",
        "    Dense(64, activation='relu'),\n",
        "    Dropout(0.4),\n",
        "    Dense(1, activation='sigmoid')\n",
        "])\n",
        "\n",
        "model8.compile(loss='binary_crossentropy',\n",
        "              optimizer='adam',\n",
        "              metrics=['accuracy'])\n",
        "\n",
        "history8 = model8.fit(x_train_bad, y_train, epochs=10, batch_size=32, validation_data=(x_test_bad, y_test))"
      ],
      "metadata": {
        "colab": {
          "base_uri": "https://localhost:8080/"
        },
        "id": "GGTzS8sjF_tE",
        "outputId": "6364af04-0cee-4cb7-db9c-6ba194c615bd"
      },
      "execution_count": null,
      "outputs": [
        {
          "output_type": "stream",
          "name": "stdout",
          "text": [
            "Epoch 1/10\n",
            "\u001b[1m789/789\u001b[0m \u001b[32m━━━━━━━━━━━━━━━━━━━━\u001b[0m\u001b[37m\u001b[0m \u001b[1m11s\u001b[0m 9ms/step - accuracy: 0.9268 - loss: 0.2636 - val_accuracy: 0.9623 - val_loss: 0.1143\n",
            "Epoch 2/10\n",
            "\u001b[1m789/789\u001b[0m \u001b[32m━━━━━━━━━━━━━━━━━━━━\u001b[0m\u001b[37m\u001b[0m \u001b[1m10s\u001b[0m 9ms/step - accuracy: 0.9773 - loss: 0.0728 - val_accuracy: 0.9637 - val_loss: 0.1200\n",
            "Epoch 3/10\n",
            "\u001b[1m789/789\u001b[0m \u001b[32m━━━━━━━━━━━━━━━━━━━━\u001b[0m\u001b[37m\u001b[0m \u001b[1m7s\u001b[0m 8ms/step - accuracy: 0.9873 - loss: 0.0377 - val_accuracy: 0.9634 - val_loss: 0.1256\n",
            "Epoch 4/10\n",
            "\u001b[1m789/789\u001b[0m \u001b[32m━━━━━━━━━━━━━━━━━━━━\u001b[0m\u001b[37m\u001b[0m \u001b[1m6s\u001b[0m 7ms/step - accuracy: 0.9920 - loss: 0.0257 - val_accuracy: 0.9629 - val_loss: 0.1744\n",
            "Epoch 5/10\n",
            "\u001b[1m789/789\u001b[0m \u001b[32m━━━━━━━━━━━━━━━━━━━━\u001b[0m\u001b[37m\u001b[0m \u001b[1m11s\u001b[0m 9ms/step - accuracy: 0.9959 - loss: 0.0144 - val_accuracy: 0.9612 - val_loss: 0.1919\n",
            "Epoch 6/10\n",
            "\u001b[1m789/789\u001b[0m \u001b[32m━━━━━━━━━━━━━━━━━━━━\u001b[0m\u001b[37m\u001b[0m \u001b[1m10s\u001b[0m 8ms/step - accuracy: 0.9970 - loss: 0.0104 - val_accuracy: 0.9618 - val_loss: 0.2753\n",
            "Epoch 7/10\n",
            "\u001b[1m789/789\u001b[0m \u001b[32m━━━━━━━━━━━━━━━━━━━━\u001b[0m\u001b[37m\u001b[0m \u001b[1m6s\u001b[0m 7ms/step - accuracy: 0.9977 - loss: 0.0076 - val_accuracy: 0.9604 - val_loss: 0.2509\n",
            "Epoch 8/10\n",
            "\u001b[1m789/789\u001b[0m \u001b[32m━━━━━━━━━━━━━━━━━━━━\u001b[0m\u001b[37m\u001b[0m \u001b[1m7s\u001b[0m 9ms/step - accuracy: 0.9981 - loss: 0.0064 - val_accuracy: 0.9596 - val_loss: 0.2662\n",
            "Epoch 9/10\n",
            "\u001b[1m789/789\u001b[0m \u001b[32m━━━━━━━━━━━━━━━━━━━━\u001b[0m\u001b[37m\u001b[0m \u001b[1m10s\u001b[0m 9ms/step - accuracy: 0.9992 - loss: 0.0033 - val_accuracy: 0.9597 - val_loss: 0.3321\n",
            "Epoch 10/10\n",
            "\u001b[1m789/789\u001b[0m \u001b[32m━━━━━━━━━━━━━━━━━━━━\u001b[0m\u001b[37m\u001b[0m \u001b[1m11s\u001b[0m 10ms/step - accuracy: 0.9993 - loss: 0.0029 - val_accuracy: 0.9591 - val_loss: 0.3018\n"
          ]
        }
      ]
    },
    {
      "cell_type": "code",
      "source": [
        "report = classification_report(y_test, model8.predict(x_test_bad) > 0.5)\n",
        "print(report)"
      ],
      "metadata": {
        "colab": {
          "base_uri": "https://localhost:8080/"
        },
        "id": "9X4G0VOcGsBu",
        "outputId": "815dae97-a766-4f53-afd9-a52f1734fb52"
      },
      "execution_count": null,
      "outputs": [
        {
          "output_type": "stream",
          "name": "stdout",
          "text": [
            "\u001b[1m198/198\u001b[0m \u001b[32m━━━━━━━━━━━━━━━━━━━━\u001b[0m\u001b[37m\u001b[0m \u001b[1m1s\u001b[0m 3ms/step\n",
            "              precision    recall  f1-score   support\n",
            "\n",
            "           0       0.97      0.99      0.98      5864\n",
            "           1       0.76      0.61      0.68       443\n",
            "\n",
            "    accuracy                           0.96      6307\n",
            "   macro avg       0.87      0.80      0.83      6307\n",
            "weighted avg       0.96      0.96      0.96      6307\n",
            "\n"
          ]
        }
      ]
    },
    {
      "cell_type": "markdown",
      "source": [
        "#####LSTM with bidirectional"
      ],
      "metadata": {
        "id": "a_sGJD3yFbWz"
      }
    },
    {
      "cell_type": "code",
      "source": [
        "from keras.layers import LSTM\n",
        "\n",
        "tokenizer = Tokenizer()\n",
        "tokenizer.fit_on_texts(x_train)\n",
        "vocab_size = len(tokenizer.word_index) + 1\n",
        "\n",
        "x_train_bad = tokenizer.texts_to_sequences(x_train)\n",
        "x_test_bad = tokenizer.texts_to_sequences(x_test)\n",
        "\n",
        "max_len = 50\n",
        "x_train_bad = pad_sequences(x_train_bad, maxlen=max_len)\n",
        "x_test_bad = pad_sequences(x_test_bad, maxlen=max_len)\n",
        "\n",
        "emdedding_layer = Embedding(input_dim=30000, output_dim=50, input_length=max_len)\n",
        "\n",
        "earlystop = EarlyStopping(monitor='val_loss', patience=2, verbose=1, restore_best_weights=True)\n",
        "model9 = Sequential([\n",
        "    emdedding_layer,\n",
        "    Bidirectional((LSTM(64))),  # Wrapped with Bidirectional\n",
        "    Dense(64, activation='relu'),\n",
        "    Dropout(0.3),\n",
        "    Dense(1, activation='sigmoid')\n",
        "])\n",
        "\n",
        "model9.compile(loss='binary_crossentropy',\n",
        "              optimizer='adam',\n",
        "              metrics=['accuracy'])\n",
        "\n",
        "history9 = model9.fit(x_train_bad, y_train, epochs=10, batch_size=32, validation_data=(x_test_bad, y_test))"
      ],
      "metadata": {
        "colab": {
          "base_uri": "https://localhost:8080/"
        },
        "id": "fPV_qwKHFbBM",
        "outputId": "fc0fb860-c4e6-4704-ad19-0180ea9595aa"
      },
      "execution_count": null,
      "outputs": [
        {
          "output_type": "stream",
          "name": "stdout",
          "text": [
            "Epoch 1/10\n"
          ]
        },
        {
          "output_type": "stream",
          "name": "stderr",
          "text": [
            "/usr/local/lib/python3.11/dist-packages/keras/src/layers/core/embedding.py:90: UserWarning: Argument `input_length` is deprecated. Just remove it.\n",
            "  warnings.warn(\n"
          ]
        },
        {
          "output_type": "stream",
          "name": "stdout",
          "text": [
            "\u001b[1m789/789\u001b[0m \u001b[32m━━━━━━━━━━━━━━━━━━━━\u001b[0m\u001b[37m\u001b[0m \u001b[1m12s\u001b[0m 11ms/step - accuracy: 0.9303 - loss: 0.2273 - val_accuracy: 0.9610 - val_loss: 0.1134\n",
            "Epoch 2/10\n",
            "\u001b[1m789/789\u001b[0m \u001b[32m━━━━━━━━━━━━━━━━━━━━\u001b[0m\u001b[37m\u001b[0m \u001b[1m9s\u001b[0m 10ms/step - accuracy: 0.9775 - loss: 0.0667 - val_accuracy: 0.9631 - val_loss: 0.1367\n",
            "Epoch 3/10\n",
            "\u001b[1m789/789\u001b[0m \u001b[32m━━━━━━━━━━━━━━━━━━━━\u001b[0m\u001b[37m\u001b[0m \u001b[1m11s\u001b[0m 11ms/step - accuracy: 0.9904 - loss: 0.0312 - val_accuracy: 0.9624 - val_loss: 0.1377\n",
            "Epoch 4/10\n",
            "\u001b[1m789/789\u001b[0m \u001b[32m━━━━━━━━━━━━━━━━━━━━\u001b[0m\u001b[37m\u001b[0m \u001b[1m10s\u001b[0m 11ms/step - accuracy: 0.9943 - loss: 0.0193 - val_accuracy: 0.9613 - val_loss: 0.1933\n",
            "Epoch 5/10\n",
            "\u001b[1m789/789\u001b[0m \u001b[32m━━━━━━━━━━━━━━━━━━━━\u001b[0m\u001b[37m\u001b[0m \u001b[1m9s\u001b[0m 12ms/step - accuracy: 0.9962 - loss: 0.0106 - val_accuracy: 0.9586 - val_loss: 0.2251\n",
            "Epoch 6/10\n",
            "\u001b[1m789/789\u001b[0m \u001b[32m━━━━━━━━━━━━━━━━━━━━\u001b[0m\u001b[37m\u001b[0m \u001b[1m9s\u001b[0m 11ms/step - accuracy: 0.9987 - loss: 0.0057 - val_accuracy: 0.9580 - val_loss: 0.2423\n",
            "Epoch 7/10\n",
            "\u001b[1m789/789\u001b[0m \u001b[32m━━━━━━━━━━━━━━━━━━━━\u001b[0m\u001b[37m\u001b[0m \u001b[1m10s\u001b[0m 10ms/step - accuracy: 0.9986 - loss: 0.0047 - val_accuracy: 0.9564 - val_loss: 0.2734\n",
            "Epoch 8/10\n",
            "\u001b[1m789/789\u001b[0m \u001b[32m━━━━━━━━━━━━━━━━━━━━\u001b[0m\u001b[37m\u001b[0m \u001b[1m9s\u001b[0m 11ms/step - accuracy: 0.9989 - loss: 0.0038 - val_accuracy: 0.9580 - val_loss: 0.3188\n",
            "Epoch 9/10\n",
            "\u001b[1m789/789\u001b[0m \u001b[32m━━━━━━━━━━━━━━━━━━━━\u001b[0m\u001b[37m\u001b[0m \u001b[1m9s\u001b[0m 12ms/step - accuracy: 0.9991 - loss: 0.0027 - val_accuracy: 0.9575 - val_loss: 0.3254\n",
            "Epoch 10/10\n",
            "\u001b[1m789/789\u001b[0m \u001b[32m━━━━━━━━━━━━━━━━━━━━\u001b[0m\u001b[37m\u001b[0m \u001b[1m10s\u001b[0m 11ms/step - accuracy: 0.9990 - loss: 0.0038 - val_accuracy: 0.9561 - val_loss: 0.3223\n"
          ]
        }
      ]
    },
    {
      "cell_type": "code",
      "source": [
        "report = classification_report(y_test, model9.predict(x_test_bad) > 0.5)\n",
        "print(report)"
      ],
      "metadata": {
        "colab": {
          "base_uri": "https://localhost:8080/"
        },
        "id": "640THkD1HsDN",
        "outputId": "99050dfc-9120-4736-961f-e6fb0a2d6473"
      },
      "execution_count": null,
      "outputs": [
        {
          "output_type": "stream",
          "name": "stdout",
          "text": [
            "\u001b[1m198/198\u001b[0m \u001b[32m━━━━━━━━━━━━━━━━━━━━\u001b[0m\u001b[37m\u001b[0m \u001b[1m1s\u001b[0m 4ms/step\n",
            "              precision    recall  f1-score   support\n",
            "\n",
            "           0       0.97      0.99      0.98      5864\n",
            "           1       0.75      0.59      0.66       443\n",
            "\n",
            "    accuracy                           0.96      6307\n",
            "   macro avg       0.86      0.79      0.82      6307\n",
            "weighted avg       0.95      0.96      0.95      6307\n",
            "\n"
          ]
        }
      ]
    },
    {
      "cell_type": "code",
      "source": [
        "y_pred = model9.predict(x_test_bad) > 0.5\n",
        "calculated_f1_score = f1_score(y_test, y_pred, average='macro')\n",
        "print(calculated_f1_score)"
      ],
      "metadata": {
        "colab": {
          "base_uri": "https://localhost:8080/"
        },
        "id": "3wHtNMe_lhAr",
        "outputId": "41bf1793-f192-436e-a62b-8cfe1064beae"
      },
      "execution_count": null,
      "outputs": [
        {
          "output_type": "stream",
          "name": "stdout",
          "text": [
            "\u001b[1m198/198\u001b[0m \u001b[32m━━━━━━━━━━━━━━━━━━━━\u001b[0m\u001b[37m\u001b[0m \u001b[1m1s\u001b[0m 4ms/step\n",
            "0.817907002898518\n"
          ]
        }
      ]
    },
    {
      "cell_type": "markdown",
      "source": [
        "#####LSTM with class weighted"
      ],
      "metadata": {
        "id": "QxFaWvoTIWea"
      }
    },
    {
      "cell_type": "code",
      "source": [
        "from keras.callbacks import EarlyStopping\n",
        "from keras.layers import LSTM, Bidirectional\n",
        "from sklearn.utils.class_weight import compute_class_weight\n",
        "\n",
        "# Tokenization and Padding\n",
        "tokenizer = Tokenizer(num_words=30000)  # Limit vocab to top 30,000 words\n",
        "tokenizer.fit_on_texts(x_train)\n",
        "vocab_size = len(tokenizer.word_index) + 1\n",
        "\n",
        "x_train_seq = tokenizer.texts_to_sequences(x_train)\n",
        "x_test_seq = tokenizer.texts_to_sequences(x_test)\n",
        "\n",
        "max_len = 50  # Truncate/pad sequences to this length\n",
        "x_train_pad = pad_sequences(x_train_seq, maxlen=max_len, padding='post', truncating='post')\n",
        "x_test_pad = pad_sequences(x_test_seq, maxlen=max_len, padding='post', truncating='post')\n",
        "\n",
        "# Class Weighting (for imbalanced data)\n",
        "class_weights = compute_class_weight(\n",
        "    'balanced',\n",
        "    classes=np.unique(y_train),\n",
        "    y=y_train\n",
        ")\n",
        "class_weights_dict = {0: class_weights[0], 1: class_weights[1]}\n",
        "print(\"Class Weights:\", class_weights_dict)\n",
        "\n",
        "# Model Architecture\n",
        "embedding_dim = 50\n",
        "model10 = Sequential([\n",
        "    Embedding(input_dim=30000, output_dim=embedding_dim, input_length=max_len),\n",
        "    Bidirectional(LSTM(32, dropout=0.2, recurrent_dropout=0.2)),  # Bidirectional LSTM with dropout\n",
        "    Dense(64, activation='relu'),\n",
        "    Dropout(0.4),\n",
        "    Dense(1, activation='sigmoid')\n",
        "])\n",
        "\n",
        "# Compile\n",
        "model10.compile(\n",
        "    loss='binary_crossentropy',\n",
        "    optimizer='adam',\n",
        "    metrics=['accuracy']\n",
        ")\n",
        "\n",
        "# Early Stopping\n",
        "earlystop = EarlyStopping(\n",
        "    monitor='val_loss',\n",
        "    patience=2,\n",
        "    verbose=1,\n",
        "    restore_best_weights=True\n",
        ")\n",
        "\n",
        "# Train\n",
        "history10 = model10.fit(\n",
        "    x_train_pad,\n",
        "    y_train,\n",
        "    epochs=10,\n",
        "    batch_size=32,\n",
        "    validation_data=(x_test_pad, y_test),\n",
        "    class_weight=class_weights_dict,\n",
        "    callbacks=[earlystop]\n",
        ")"
      ],
      "metadata": {
        "colab": {
          "base_uri": "https://localhost:8080/"
        },
        "id": "tERsDgv9Ir6M",
        "outputId": "64fdf282-576f-4dd3-9950-91576e3d4076"
      },
      "execution_count": null,
      "outputs": [
        {
          "output_type": "stream",
          "name": "stdout",
          "text": [
            "Class Weights: {0: np.float64(0.5377270014493989), 1: np.float64(7.126553672316384)}\n",
            "Epoch 1/10\n"
          ]
        },
        {
          "output_type": "stream",
          "name": "stderr",
          "text": [
            "/usr/local/lib/python3.11/dist-packages/keras/src/layers/core/embedding.py:90: UserWarning: Argument `input_length` is deprecated. Just remove it.\n",
            "  warnings.warn(\n"
          ]
        },
        {
          "output_type": "stream",
          "name": "stdout",
          "text": [
            "\u001b[1m789/789\u001b[0m \u001b[32m━━━━━━━━━━━━━━━━━━━━\u001b[0m\u001b[37m\u001b[0m \u001b[1m255s\u001b[0m 315ms/step - accuracy: 0.7031 - loss: 0.5362 - val_accuracy: 0.9312 - val_loss: 0.2020\n",
            "Epoch 2/10\n",
            "\u001b[1m789/789\u001b[0m \u001b[32m━━━━━━━━━━━━━━━━━━━━\u001b[0m\u001b[37m\u001b[0m \u001b[1m260s\u001b[0m 311ms/step - accuracy: 0.9391 - loss: 0.1722 - val_accuracy: 0.9331 - val_loss: 0.1689\n",
            "Epoch 3/10\n",
            "\u001b[1m789/789\u001b[0m \u001b[32m━━━━━━━━━━━━━━━━━━━━\u001b[0m\u001b[37m\u001b[0m \u001b[1m270s\u001b[0m 322ms/step - accuracy: 0.9769 - loss: 0.0713 - val_accuracy: 0.9597 - val_loss: 0.1330\n",
            "Epoch 4/10\n",
            "\u001b[1m789/789\u001b[0m \u001b[32m━━━━━━━━━━━━━━━━━━━━\u001b[0m\u001b[37m\u001b[0m \u001b[1m254s\u001b[0m 311ms/step - accuracy: 0.9881 - loss: 0.0383 - val_accuracy: 0.9443 - val_loss: 0.1848\n",
            "Epoch 5/10\n",
            "\u001b[1m789/789\u001b[0m \u001b[32m━━━━━━━━━━━━━━━━━━━━\u001b[0m\u001b[37m\u001b[0m \u001b[1m272s\u001b[0m 324ms/step - accuracy: 0.9891 - loss: 0.0296 - val_accuracy: 0.9423 - val_loss: 0.2102\n",
            "Epoch 5: early stopping\n",
            "Restoring model weights from the end of the best epoch: 3.\n"
          ]
        }
      ]
    },
    {
      "cell_type": "code",
      "source": [
        "report = classification_report(y_test, model10.predict(x_test_pad) > 0.5)\n",
        "print(report)"
      ],
      "metadata": {
        "id": "nwa7_Ug2JBjA",
        "colab": {
          "base_uri": "https://localhost:8080/"
        },
        "outputId": "78b4b9c7-d661-44f2-eccc-f5ea091190c3"
      },
      "execution_count": null,
      "outputs": [
        {
          "output_type": "stream",
          "name": "stdout",
          "text": [
            "\u001b[1m198/198\u001b[0m \u001b[32m━━━━━━━━━━━━━━━━━━━━\u001b[0m\u001b[37m\u001b[0m \u001b[1m13s\u001b[0m 60ms/step\n",
            "              precision    recall  f1-score   support\n",
            "\n",
            "           0       0.98      0.97      0.97      5864\n",
            "           1       0.64      0.75      0.69       443\n",
            "\n",
            "    accuracy                           0.95      6307\n",
            "   macro avg       0.81      0.86      0.83      6307\n",
            "weighted avg       0.96      0.95      0.95      6307\n",
            "\n"
          ]
        }
      ]
    },
    {
      "cell_type": "code",
      "source": [
        "y_pred = model10.predict(x_test_pad) > 0.5\n",
        "calculated_f1_score = f1_score(y_test, y_pred, average='macro')\n",
        "print(calculated_f1_score)"
      ],
      "metadata": {
        "colab": {
          "base_uri": "https://localhost:8080/"
        },
        "id": "c7L8qU5XmD4j",
        "outputId": "62cbeedb-370a-43af-c37a-3edce0141554"
      },
      "execution_count": null,
      "outputs": [
        {
          "output_type": "stream",
          "name": "stdout",
          "text": [
            "\u001b[1m198/198\u001b[0m \u001b[32m━━━━━━━━━━━━━━━━━━━━\u001b[0m\u001b[37m\u001b[0m \u001b[1m13s\u001b[0m 61ms/step\n",
            "0.8474209016043693\n"
          ]
        }
      ]
    },
    {
      "cell_type": "markdown",
      "source": [
        "# f1_score"
      ],
      "metadata": {
        "id": "tG4TB9Uoo9Vz"
      }
    },
    {
      "cell_type": "markdown",
      "source": [
        "##after traing apove i selected the best scores from classification matrices to compare it so if you want to see all tries you can see it apove"
      ],
      "metadata": {
        "id": "yrHyJl9pol5L"
      }
    },
    {
      "cell_type": "code",
      "source": [
        "###RNN evaluation\n",
        "y_pred = model.predict(x_test_bad) > 0.5\n",
        "calculated_f1_score = f1_score(y_test, y_pred, average='macro')\n",
        "print(calculated_f1_score)"
      ],
      "metadata": {
        "trusted": true,
        "execution": {
          "iopub.status.busy": "2025-04-21T18:16:37.143133Z",
          "iopub.execute_input": "2025-04-21T18:16:37.143922Z",
          "iopub.status.idle": "2025-04-21T18:16:38.467686Z",
          "shell.execute_reply.started": "2025-04-21T18:16:37.143887Z",
          "shell.execute_reply": "2025-04-21T18:16:38.466865Z"
        },
        "id": "6f1UeimtnbbR",
        "outputId": "03505777-2156-491c-ad56-db03fd8febd9"
      },
      "outputs": [
        {
          "name": "stdout",
          "text": "\u001b[1m198/198\u001b[0m \u001b[32m━━━━━━━━━━━━━━━━━━━━\u001b[0m\u001b[37m\u001b[0m \u001b[1m1s\u001b[0m 4ms/step\n0.7933319502712174\n",
          "output_type": "stream"
        }
      ],
      "execution_count": null
    },
    {
      "cell_type": "code",
      "source": [
        "###RNN bidrectional evaluation\n",
        "y_pred = model4.predict(x_test_bad) > 0.5\n",
        "calculated_f1_score = f1_score(y_test, y_pred, average='macro')\n",
        "print(calculated_f1_score)"
      ],
      "metadata": {
        "trusted": true,
        "execution": {
          "iopub.status.busy": "2025-04-21T18:20:28.144245Z",
          "iopub.execute_input": "2025-04-21T18:20:28.144548Z",
          "iopub.status.idle": "2025-04-21T18:20:30.129728Z",
          "shell.execute_reply.started": "2025-04-21T18:20:28.144525Z",
          "shell.execute_reply": "2025-04-21T18:20:30.129095Z"
        },
        "id": "B42egLRFnbbW",
        "outputId": "c4278d0a-e217-432e-92ad-8cbccfe8c704"
      },
      "outputs": [
        {
          "name": "stdout",
          "text": "\u001b[1m198/198\u001b[0m \u001b[32m━━━━━━━━━━━━━━━━━━━━\u001b[0m\u001b[37m\u001b[0m \u001b[1m2s\u001b[0m 7ms/step\n0.8203641456582633\n",
          "output_type": "stream"
        }
      ],
      "execution_count": null
    },
    {
      "cell_type": "code",
      "source": [
        "###ANN with BOW evaluation\n",
        "y_pred = model3.predict(x_test_bow) > 0.5\n",
        "calculated_f1_score = f1_score(y_test, y_pred, average='macro')\n",
        "print(calculated_f1_score)"
      ],
      "metadata": {
        "colab": {
          "base_uri": "https://localhost:8080/"
        },
        "outputId": "45601067-2be4-4872-c936-2482f865099c",
        "id": "kekypJmYoPXx"
      },
      "execution_count": null,
      "outputs": [
        {
          "output_type": "stream",
          "name": "stdout",
          "text": [
            "\u001b[1m198/198\u001b[0m \u001b[32m━━━━━━━━━━━━━━━━━━━━\u001b[0m\u001b[37m\u001b[0m \u001b[1m1s\u001b[0m 4ms/step\n",
            "0.8294470327360948\n"
          ]
        }
      ]
    },
    {
      "cell_type": "code",
      "source": [
        "###GRU\n",
        "y_pred = model5.predict(x_test_bad) > 0.5\n",
        "calculated_f1_score = f1_score(y_test, y_pred, average='macro')\n",
        "print(calculated_f1_score)"
      ],
      "metadata": {
        "trusted": true,
        "execution": {
          "iopub.status.busy": "2025-04-21T18:23:06.151188Z",
          "iopub.execute_input": "2025-04-21T18:23:06.151395Z",
          "iopub.status.idle": "2025-04-21T18:23:08.533732Z",
          "shell.execute_reply.started": "2025-04-21T18:23:06.151378Z",
          "shell.execute_reply": "2025-04-21T18:23:08.532982Z"
        },
        "id": "5LFDZ8dhnbba",
        "outputId": "9f5ff51d-8331-4e37-c5d8-bc34d0d53509"
      },
      "outputs": [
        {
          "name": "stdout",
          "text": "\u001b[1m198/198\u001b[0m \u001b[32m━━━━━━━━━━━━━━━━━━━━\u001b[0m\u001b[37m\u001b[0m \u001b[1m2s\u001b[0m 3ms/step\n0.49409398084747363\n",
          "output_type": "stream"
        }
      ],
      "execution_count": null
    },
    {
      "cell_type": "code",
      "source": [
        "###GRU bidrectional\n",
        "y_pred = model6.predict(x_test_bad) > 0.5\n",
        "calculated_f1_score = f1_score(y_test, y_pred, average='macro')\n",
        "print(calculated_f1_score)"
      ],
      "metadata": {
        "colab": {
          "base_uri": "https://localhost:8080/"
        },
        "outputId": "6d4cf5cf-b24d-4456-de1e-b89b4dd0a47c",
        "id": "PXinHUeZpNlB"
      },
      "execution_count": null,
      "outputs": [
        {
          "output_type": "stream",
          "name": "stdout",
          "text": [
            "\u001b[1m198/198\u001b[0m \u001b[32m━━━━━━━━━━━━━━━━━━━━\u001b[0m\u001b[37m\u001b[0m \u001b[1m1s\u001b[0m 5ms/step\n",
            "0.8305923848376678\n"
          ]
        }
      ]
    },
    {
      "cell_type": "code",
      "source": [
        "###LSTM\n",
        "y_pred = model7.predict(x_test_bad) > 0.5\n",
        "calculated_f1_score = f1_score(y_test, y_pred, average='macro')\n",
        "print(calculated_f1_score)"
      ],
      "metadata": {
        "colab": {
          "base_uri": "https://localhost:8080/"
        },
        "outputId": "cd911245-00b4-4ea0-8d74-5563c661d9c1",
        "id": "AUFJWvADptLp"
      },
      "execution_count": null,
      "outputs": [
        {
          "output_type": "stream",
          "name": "stdout",
          "text": [
            "\u001b[1m198/198\u001b[0m \u001b[32m━━━━━━━━━━━━━━━━━━━━\u001b[0m\u001b[37m\u001b[0m \u001b[1m1s\u001b[0m 3ms/step\n",
            "0.8279533249461551\n"
          ]
        }
      ]
    },
    {
      "cell_type": "code",
      "source": [
        "###LSTM bidrectional\n",
        "y_pred = model9.predict(x_test_bad) > 0.5\n",
        "calculated_f1_score = f1_score(y_test, y_pred, average='macro')\n",
        "print(calculated_f1_score)"
      ],
      "metadata": {
        "colab": {
          "base_uri": "https://localhost:8080/"
        },
        "outputId": "41bf1793-f192-436e-a62b-8cfe1064beae",
        "id": "saT9xIjGp11l"
      },
      "execution_count": null,
      "outputs": [
        {
          "output_type": "stream",
          "name": "stdout",
          "text": [
            "\u001b[1m198/198\u001b[0m \u001b[32m━━━━━━━━━━━━━━━━━━━━\u001b[0m\u001b[37m\u001b[0m \u001b[1m1s\u001b[0m 4ms/step\n",
            "0.817907002898518\n"
          ]
        }
      ]
    },
    {
      "cell_type": "code",
      "source": [
        "### biderictional LSTM with class weighted\n",
        "y_pred = model10.predict(x_test_pad) > 0.5\n",
        "calculated_f1_score = f1_score(y_test, y_pred, average='macro')\n",
        "print(calculated_f1_score)"
      ],
      "metadata": {
        "colab": {
          "base_uri": "https://localhost:8080/"
        },
        "outputId": "62cbeedb-370a-43af-c37a-3edce0141554",
        "id": "tJGsa0p0rXWC"
      },
      "execution_count": null,
      "outputs": [
        {
          "output_type": "stream",
          "name": "stdout",
          "text": [
            "\u001b[1m198/198\u001b[0m \u001b[32m━━━━━━━━━━━━━━━━━━━━\u001b[0m\u001b[37m\u001b[0m \u001b[1m13s\u001b[0m 61ms/step\n",
            "0.8474209016043693\n"
          ]
        }
      ]
    },
    {
      "cell_type": "markdown",
      "source": [
        "so now i can select biderctional LSTM with classwight"
      ],
      "metadata": {
        "id": "ApVNm8-6rZsT"
      }
    },
    {
      "cell_type": "markdown",
      "source": [
        "comparing with normal ML algorithems which the best one is (82%) it is clear that NNs specially LSTM and bidirectionals is better"
      ],
      "metadata": {
        "id": "BoiuCo0Xr5m_"
      }
    },
    {
      "cell_type": "code",
      "source": [
        "def classify_custom_tweet(tweet_text):\n",
        "    # Clean the tweet using your function\n",
        "    cleaned_tweet = clean_tweet(tweet_text)\n",
        "\n",
        "    # Convert text to sequence using your trained tokenizer\n",
        "    sequence = tokenizer.texts_to_sequences([cleaned_tweet])\n",
        "\n",
        "    # Pad the sequence (exactly like training)\n",
        "    padded_sequence = pad_sequences(sequence, maxlen=50, padding='post', truncating='post')\n",
        "\n",
        "    # Make prediction\n",
        "    prediction = model10.predict(padded_sequence, verbose=0)[0][0]\n",
        "    sentiment = \"Negative\" if prediction >= 0.5 else \"Positive\"  # Assuming 1=Negative, 0=Positive\n",
        "\n",
        "    return {\n",
        "        \"cleaned_text\": cleaned_tweet,\n",
        "        \"probability\": float(prediction),\n",
        "        \"sentiment\": sentiment\n",
        "    }"
      ],
      "metadata": {
        "id": "gG4R2KgPvU3W"
      },
      "execution_count": null,
      "outputs": []
    },
    {
      "cell_type": "code",
      "source": [
        "input = \"I hate you\"\n",
        "result = classify_custom_tweet(input)\n",
        "print(f\"Original Tweet:\",input)\n",
        "print(f\"Cleaned Version: {result['cleaned_text']}\")\n",
        "print(f\"Predicted Sentiment: {result['sentiment']} (Confidence: {result['probability']:.4f})\")"
      ],
      "metadata": {
        "colab": {
          "base_uri": "https://localhost:8080/"
        },
        "id": "n3BjwlE7vwUi",
        "outputId": "7ab612c8-ac94-4871-f07a-1ef720f6b99b"
      },
      "execution_count": null,
      "outputs": [
        {
          "output_type": "stream",
          "name": "stdout",
          "text": [
            "Original Tweet: I hate you\n",
            "Cleaned Version: hate\n",
            "Predicted Sentiment: Negative (Confidence: 0.6281)\n"
          ]
        }
      ]
    }
  ],
  "metadata": {
    "colab": {
      "provenance": [],
      "gpuType": "T4"
    },
    "kernelspec": {
      "display_name": "Python [conda env:base] *",
      "language": "python",
      "name": "conda-base-py"
    },
    "language_info": {
      "codemirror_mode": {
        "name": "ipython",
        "version": 3
      },
      "file_extension": ".py",
      "mimetype": "text/x-python",
      "name": "python",
      "nbconvert_exporter": "python",
      "pygments_lexer": "ipython3",
      "version": "3.11.7"
    },
    "accelerator": "GPU"
  },
  "nbformat": 4,
  "nbformat_minor": 0
}